{
  "cells": [
    {
      "cell_type": "code",
      "execution_count": 1,
      "id": "a3e8ac6a",
      "metadata": {
        "id": "a3e8ac6a"
      },
      "outputs": [],
      "source": [
        "import pandas as pd\n",
        "import numpy as np\n",
        "import missingno as msno\n",
        "import matplotlib.pyplot as plt\n",
        "import seaborn as sns\n",
        "import plotly.express as px\n",
        "import plotly.graph_objects as go\n",
        "from plotly.subplots import make_subplots\n",
        "import warnings\n",
        "warnings.filterwarnings('ignore')"
      ]
    },
    {
      "cell_type": "code",
      "source": [
        "from sklearn.preprocessing import StandardScaler\n",
        "from sklearn.preprocessing import LabelEncoder\n",
        "\n",
        "from sklearn.tree import DecisionTreeClassifier\n",
        "from sklearn.ensemble import RandomForestClassifier\n",
        "from sklearn.naive_bayes import GaussianNB\n",
        "from sklearn.neighbors import KNeighborsClassifier\n",
        "from sklearn.ensemble import AdaBoostClassifier\n",
        "from sklearn.linear_model import LogisticRegression\n",
        "from sklearn.naive_bayes import MultinomialNB, BernoulliNB\n",
        "from sklearn.preprocessing import MinMaxScaler ,FunctionTransformer\n",
        "from sklearn.pipeline import Pipeline\n",
        "import xgboost as xgb\n",
        "from sklearn.model_selection import train_test_split ,GridSearchCV , cross_val_score\n",
        "from sklearn.metrics import accuracy_score\n",
        "from xgboost import XGBClassifier\n",
        "from sklearn import metrics\n",
        "from sklearn.metrics import roc_curve\n",
        "from sklearn.metrics import recall_score, confusion_matrix, precision_score, f1_score, accuracy_score, classification_report\n"
      ],
      "metadata": {
        "id": "U1WdzxZWK4bI"
      },
      "id": "U1WdzxZWK4bI",
      "execution_count": 2,
      "outputs": []
    },
    {
      "cell_type": "code",
      "source": [
        "from google.colab import drive\n",
        "drive.mount('/content/drive')\n",
        "import sys\n",
        "sys.path.append('/content/drive/MyDrive/FCALC')\n",
        "import fcalc"
      ],
      "metadata": {
        "id": "jHB_quz3t4na",
        "outputId": "74b1709a-d816-4a8d-b9c9-0db34e4b7c82",
        "colab": {
          "base_uri": "https://localhost:8080/"
        }
      },
      "execution_count": 3,
      "outputs": [
        {
          "output_type": "stream",
          "name": "stdout",
          "text": [
            "Mounted at /content/drive\n"
          ]
        }
      ],
      "id": "jHB_quz3t4na"
    },
    {
      "cell_type": "code",
      "execution_count": 46,
      "id": "2de3b049",
      "metadata": {
        "id": "2de3b049"
      },
      "outputs": [],
      "source": [
        "df=pd.read_csv(\"/content/drive/MyDrive/in+vehicle+coupon+recommendation/in-vehicle-coupon-recommendation.csv\")"
      ]
    },
    {
      "cell_type": "markdown",
      "source": [
        "***About Dataset***\n",
        "\n",
        "Source:\n",
        "\n",
        "Tong Wang, tong-wang '@' uiowa.edu, University of Iowa\n",
        "Cynthia Rudin, cynthia '@' cs.duke.edu, Duke University\n",
        "\n",
        "Data Set Information:\n",
        "\n",
        "This data was collected via a survey on Amazon Mechanical Turk. The survey describes different driving scenarios including the destination, current time, weather, passenger, etc., and then ask the person whether he will accept the coupon if he is the driver. For more information about the dataset, please refer to the paper:\n",
        "Wang, Tong, Cynthia Rudin, Finale Doshi-Velez, Yimin Liu, Erica Klampfl, and Perry MacNeille. 'A bayesian framework for learning rule sets for interpretable classification.' The Journal of Machine Learning Research 18, no. 1 (2017): 2357-2393.\n",
        "\n",
        "Attribute Information:\n",
        "\n",
        "1.destination: No Urgent Place, Home, Work\n",
        "\n",
        "2.passanger: Alone, Friend(s), Kid(s), Partner (who are the passengers in the car)\n",
        "\n",
        "3.weather: Sunny, Rainy, Snowy\n",
        "\n",
        "4.temperature:55, 80, 30\n",
        "\n",
        "5.time: 2PM, 10AM, 6PM, 7AM, 10PM\n",
        "\n",
        "6.coupon: Restaurant (lesser 20) , Coffee House, Carry out & Take away, Bar, Restaurant(20-50)\n",
        "\n",
        "7.expiration: 1d, 2h (the coupon expires in 1 day or in 2 hours)\n",
        "\n",
        "8.gender: Female, Male\n",
        "\n",
        "9.age: 21, 46, 26, 31, 41, 50plus, 36, below21\n",
        "\n",
        "10.maritalStatus: Unmarried partner, Single, Married partner, Divorced, Widowed\n",
        "\n",
        "11.has_Children:1, 0\n",
        "\n",
        "12.education: Some college - no degree, Bachelors degree, Associates degree, High\n",
        "School Graduate, Graduate degree (Masters or Doctorate), Some High School\n",
        "\n",
        "13.occupation: Unemployed, Architecture & Engineering, Student,\n",
        "Education&Training&Library, Healthcare Support,\n",
        "Healthcare Practitioners & Technical, Sales & Related, Management,\n",
        "Arts Design Entertainment Sports & Media, Computer & Mathematical,\n",
        "Life Physical Social Science, Personal Care & Service,\n",
        "Community & Social Services, Office & Administrative Support,\n",
        "Construction & Extraction, Legal, Retired,\n",
        "Installation Maintenance & Repair, Transportation & Material Moving,\n",
        "Business & Financial, Protective Service,\n",
        "Food Preparation & Serving Related, Production Occupations,\n",
        "Building & Grounds Cleaning & Maintenance, Farming Fishing & Forestry\n",
        "\n",
        "14.income: $37500 - $49999, $62500 - $74999, $12500 - $24999, $75000 - $87499,\n",
        "$50000 - $62499, $25000 - $37499, $100000 or More, $87500 - $99999, Less than $12500\n",
        "\n",
        "15.Bar: never, less1, 1-3, gt8, nan4-8 (feature meaning: how many times do you go to a bar every month?)\n",
        "\n",
        "16.CoffeeHouse: never, less1, 4-8, 1-3, gt8, nan (feature meaning: how many times do you go to a coffeehouse every month?)\n",
        "\n",
        "17.CarryAway:n4-8, 1-3, gt8, less1, never (feature meaning: how many times do you get take-away food every month?)\n",
        "\n",
        "18.RestaurantLessThan20: 4-8, 1-3, less1, gt8, never (feature meaning: how many times do you go to a restaurant with an average expense per person of less than $20 every month?)\n",
        "\n",
        "19.Restaurant20To50: 1-3, less1, never, gt8, 4-8, nan (feature meaning: how many times do you go to a restaurant with average expense per person of $20 - $50 every month?)\n",
        "\n",
        "20.toCoupon_GEQ15min:0,1 (feature meaning: driving distance to the restaurant/bar for using the coupon is greater than 15 minutes)\n",
        "\n",
        "21.toCoupon_GEQ25min:0, 1 (feature meaning: driving distance to the restaurant/bar for using the coupon is greater than 25 minutes)\n",
        "\n",
        "22.direction_same:0, 1 (feature meaning: whether the restaurant/bar is in the same direction as your current destination)\n",
        "\n",
        "23.direction_opp:1, 0 (feature meaning: whether the restaurant/bar is in the same direction as your current destination)\n",
        "\n",
        "**Class Label**\n",
        "\n",
        "***Y:1, 0 (whether the coupon is accepted)***"
      ],
      "metadata": {
        "id": "e0jZM6_ZlOH0"
      },
      "id": "e0jZM6_ZlOH0"
    },
    {
      "cell_type": "code",
      "execution_count": 47,
      "id": "dfaa32a8",
      "metadata": {
        "id": "dfaa32a8",
        "colab": {
          "base_uri": "https://localhost:8080/",
          "height": 342
        },
        "outputId": "74204e8a-3b68-4267-8310-ca329b439486"
      },
      "outputs": [
        {
          "output_type": "execute_result",
          "data": {
            "text/plain": [
              "       destination  passanger weather  temperature  time  \\\n",
              "0  No Urgent Place      Alone   Sunny           55   2PM   \n",
              "1  No Urgent Place  Friend(s)   Sunny           80  10AM   \n",
              "2  No Urgent Place  Friend(s)   Sunny           80  10AM   \n",
              "3  No Urgent Place  Friend(s)   Sunny           80   2PM   \n",
              "4  No Urgent Place  Friend(s)   Sunny           80   2PM   \n",
              "\n",
              "                  coupon expiration  gender age      maritalStatus  ...  \\\n",
              "0        Restaurant(<20)         1d  Female  21  Unmarried partner  ...   \n",
              "1           Coffee House         2h  Female  21  Unmarried partner  ...   \n",
              "2  Carry out & Take away         2h  Female  21  Unmarried partner  ...   \n",
              "3           Coffee House         2h  Female  21  Unmarried partner  ...   \n",
              "4           Coffee House         1d  Female  21  Unmarried partner  ...   \n",
              "\n",
              "   CoffeeHouse CarryAway RestaurantLessThan20 Restaurant20To50  \\\n",
              "0        never       NaN                  4~8              1~3   \n",
              "1        never       NaN                  4~8              1~3   \n",
              "2        never       NaN                  4~8              1~3   \n",
              "3        never       NaN                  4~8              1~3   \n",
              "4        never       NaN                  4~8              1~3   \n",
              "\n",
              "  toCoupon_GEQ5min toCoupon_GEQ15min toCoupon_GEQ25min direction_same  \\\n",
              "0                1                 0                 0              0   \n",
              "1                1                 0                 0              0   \n",
              "2                1                 1                 0              0   \n",
              "3                1                 1                 0              0   \n",
              "4                1                 1                 0              0   \n",
              "\n",
              "  direction_opp  Y  \n",
              "0             1  1  \n",
              "1             1  0  \n",
              "2             1  1  \n",
              "3             1  0  \n",
              "4             1  0  \n",
              "\n",
              "[5 rows x 26 columns]"
            ],
            "text/html": [
              "\n",
              "  <div id=\"df-7e5aa9e3-b72c-4c41-b61f-5e32e4dd7429\" class=\"colab-df-container\">\n",
              "    <div>\n",
              "<style scoped>\n",
              "    .dataframe tbody tr th:only-of-type {\n",
              "        vertical-align: middle;\n",
              "    }\n",
              "\n",
              "    .dataframe tbody tr th {\n",
              "        vertical-align: top;\n",
              "    }\n",
              "\n",
              "    .dataframe thead th {\n",
              "        text-align: right;\n",
              "    }\n",
              "</style>\n",
              "<table border=\"1\" class=\"dataframe\">\n",
              "  <thead>\n",
              "    <tr style=\"text-align: right;\">\n",
              "      <th></th>\n",
              "      <th>destination</th>\n",
              "      <th>passanger</th>\n",
              "      <th>weather</th>\n",
              "      <th>temperature</th>\n",
              "      <th>time</th>\n",
              "      <th>coupon</th>\n",
              "      <th>expiration</th>\n",
              "      <th>gender</th>\n",
              "      <th>age</th>\n",
              "      <th>maritalStatus</th>\n",
              "      <th>...</th>\n",
              "      <th>CoffeeHouse</th>\n",
              "      <th>CarryAway</th>\n",
              "      <th>RestaurantLessThan20</th>\n",
              "      <th>Restaurant20To50</th>\n",
              "      <th>toCoupon_GEQ5min</th>\n",
              "      <th>toCoupon_GEQ15min</th>\n",
              "      <th>toCoupon_GEQ25min</th>\n",
              "      <th>direction_same</th>\n",
              "      <th>direction_opp</th>\n",
              "      <th>Y</th>\n",
              "    </tr>\n",
              "  </thead>\n",
              "  <tbody>\n",
              "    <tr>\n",
              "      <th>0</th>\n",
              "      <td>No Urgent Place</td>\n",
              "      <td>Alone</td>\n",
              "      <td>Sunny</td>\n",
              "      <td>55</td>\n",
              "      <td>2PM</td>\n",
              "      <td>Restaurant(&lt;20)</td>\n",
              "      <td>1d</td>\n",
              "      <td>Female</td>\n",
              "      <td>21</td>\n",
              "      <td>Unmarried partner</td>\n",
              "      <td>...</td>\n",
              "      <td>never</td>\n",
              "      <td>NaN</td>\n",
              "      <td>4~8</td>\n",
              "      <td>1~3</td>\n",
              "      <td>1</td>\n",
              "      <td>0</td>\n",
              "      <td>0</td>\n",
              "      <td>0</td>\n",
              "      <td>1</td>\n",
              "      <td>1</td>\n",
              "    </tr>\n",
              "    <tr>\n",
              "      <th>1</th>\n",
              "      <td>No Urgent Place</td>\n",
              "      <td>Friend(s)</td>\n",
              "      <td>Sunny</td>\n",
              "      <td>80</td>\n",
              "      <td>10AM</td>\n",
              "      <td>Coffee House</td>\n",
              "      <td>2h</td>\n",
              "      <td>Female</td>\n",
              "      <td>21</td>\n",
              "      <td>Unmarried partner</td>\n",
              "      <td>...</td>\n",
              "      <td>never</td>\n",
              "      <td>NaN</td>\n",
              "      <td>4~8</td>\n",
              "      <td>1~3</td>\n",
              "      <td>1</td>\n",
              "      <td>0</td>\n",
              "      <td>0</td>\n",
              "      <td>0</td>\n",
              "      <td>1</td>\n",
              "      <td>0</td>\n",
              "    </tr>\n",
              "    <tr>\n",
              "      <th>2</th>\n",
              "      <td>No Urgent Place</td>\n",
              "      <td>Friend(s)</td>\n",
              "      <td>Sunny</td>\n",
              "      <td>80</td>\n",
              "      <td>10AM</td>\n",
              "      <td>Carry out &amp; Take away</td>\n",
              "      <td>2h</td>\n",
              "      <td>Female</td>\n",
              "      <td>21</td>\n",
              "      <td>Unmarried partner</td>\n",
              "      <td>...</td>\n",
              "      <td>never</td>\n",
              "      <td>NaN</td>\n",
              "      <td>4~8</td>\n",
              "      <td>1~3</td>\n",
              "      <td>1</td>\n",
              "      <td>1</td>\n",
              "      <td>0</td>\n",
              "      <td>0</td>\n",
              "      <td>1</td>\n",
              "      <td>1</td>\n",
              "    </tr>\n",
              "    <tr>\n",
              "      <th>3</th>\n",
              "      <td>No Urgent Place</td>\n",
              "      <td>Friend(s)</td>\n",
              "      <td>Sunny</td>\n",
              "      <td>80</td>\n",
              "      <td>2PM</td>\n",
              "      <td>Coffee House</td>\n",
              "      <td>2h</td>\n",
              "      <td>Female</td>\n",
              "      <td>21</td>\n",
              "      <td>Unmarried partner</td>\n",
              "      <td>...</td>\n",
              "      <td>never</td>\n",
              "      <td>NaN</td>\n",
              "      <td>4~8</td>\n",
              "      <td>1~3</td>\n",
              "      <td>1</td>\n",
              "      <td>1</td>\n",
              "      <td>0</td>\n",
              "      <td>0</td>\n",
              "      <td>1</td>\n",
              "      <td>0</td>\n",
              "    </tr>\n",
              "    <tr>\n",
              "      <th>4</th>\n",
              "      <td>No Urgent Place</td>\n",
              "      <td>Friend(s)</td>\n",
              "      <td>Sunny</td>\n",
              "      <td>80</td>\n",
              "      <td>2PM</td>\n",
              "      <td>Coffee House</td>\n",
              "      <td>1d</td>\n",
              "      <td>Female</td>\n",
              "      <td>21</td>\n",
              "      <td>Unmarried partner</td>\n",
              "      <td>...</td>\n",
              "      <td>never</td>\n",
              "      <td>NaN</td>\n",
              "      <td>4~8</td>\n",
              "      <td>1~3</td>\n",
              "      <td>1</td>\n",
              "      <td>1</td>\n",
              "      <td>0</td>\n",
              "      <td>0</td>\n",
              "      <td>1</td>\n",
              "      <td>0</td>\n",
              "    </tr>\n",
              "  </tbody>\n",
              "</table>\n",
              "<p>5 rows × 26 columns</p>\n",
              "</div>\n",
              "    <div class=\"colab-df-buttons\">\n",
              "\n",
              "  <div class=\"colab-df-container\">\n",
              "    <button class=\"colab-df-convert\" onclick=\"convertToInteractive('df-7e5aa9e3-b72c-4c41-b61f-5e32e4dd7429')\"\n",
              "            title=\"Convert this dataframe to an interactive table.\"\n",
              "            style=\"display:none;\">\n",
              "\n",
              "  <svg xmlns=\"http://www.w3.org/2000/svg\" height=\"24px\" viewBox=\"0 -960 960 960\">\n",
              "    <path d=\"M120-120v-720h720v720H120Zm60-500h600v-160H180v160Zm220 220h160v-160H400v160Zm0 220h160v-160H400v160ZM180-400h160v-160H180v160Zm440 0h160v-160H620v160ZM180-180h160v-160H180v160Zm440 0h160v-160H620v160Z\"/>\n",
              "  </svg>\n",
              "    </button>\n",
              "\n",
              "  <style>\n",
              "    .colab-df-container {\n",
              "      display:flex;\n",
              "      gap: 12px;\n",
              "    }\n",
              "\n",
              "    .colab-df-convert {\n",
              "      background-color: #E8F0FE;\n",
              "      border: none;\n",
              "      border-radius: 50%;\n",
              "      cursor: pointer;\n",
              "      display: none;\n",
              "      fill: #1967D2;\n",
              "      height: 32px;\n",
              "      padding: 0 0 0 0;\n",
              "      width: 32px;\n",
              "    }\n",
              "\n",
              "    .colab-df-convert:hover {\n",
              "      background-color: #E2EBFA;\n",
              "      box-shadow: 0px 1px 2px rgba(60, 64, 67, 0.3), 0px 1px 3px 1px rgba(60, 64, 67, 0.15);\n",
              "      fill: #174EA6;\n",
              "    }\n",
              "\n",
              "    .colab-df-buttons div {\n",
              "      margin-bottom: 4px;\n",
              "    }\n",
              "\n",
              "    [theme=dark] .colab-df-convert {\n",
              "      background-color: #3B4455;\n",
              "      fill: #D2E3FC;\n",
              "    }\n",
              "\n",
              "    [theme=dark] .colab-df-convert:hover {\n",
              "      background-color: #434B5C;\n",
              "      box-shadow: 0px 1px 3px 1px rgba(0, 0, 0, 0.15);\n",
              "      filter: drop-shadow(0px 1px 2px rgba(0, 0, 0, 0.3));\n",
              "      fill: #FFFFFF;\n",
              "    }\n",
              "  </style>\n",
              "\n",
              "    <script>\n",
              "      const buttonEl =\n",
              "        document.querySelector('#df-7e5aa9e3-b72c-4c41-b61f-5e32e4dd7429 button.colab-df-convert');\n",
              "      buttonEl.style.display =\n",
              "        google.colab.kernel.accessAllowed ? 'block' : 'none';\n",
              "\n",
              "      async function convertToInteractive(key) {\n",
              "        const element = document.querySelector('#df-7e5aa9e3-b72c-4c41-b61f-5e32e4dd7429');\n",
              "        const dataTable =\n",
              "          await google.colab.kernel.invokeFunction('convertToInteractive',\n",
              "                                                    [key], {});\n",
              "        if (!dataTable) return;\n",
              "\n",
              "        const docLinkHtml = 'Like what you see? Visit the ' +\n",
              "          '<a target=\"_blank\" href=https://colab.research.google.com/notebooks/data_table.ipynb>data table notebook</a>'\n",
              "          + ' to learn more about interactive tables.';\n",
              "        element.innerHTML = '';\n",
              "        dataTable['output_type'] = 'display_data';\n",
              "        await google.colab.output.renderOutput(dataTable, element);\n",
              "        const docLink = document.createElement('div');\n",
              "        docLink.innerHTML = docLinkHtml;\n",
              "        element.appendChild(docLink);\n",
              "      }\n",
              "    </script>\n",
              "  </div>\n",
              "\n",
              "\n",
              "<div id=\"df-c4fbc55f-fbb0-4d2f-ad43-439ef03bb03f\">\n",
              "  <button class=\"colab-df-quickchart\" onclick=\"quickchart('df-c4fbc55f-fbb0-4d2f-ad43-439ef03bb03f')\"\n",
              "            title=\"Suggest charts\"\n",
              "            style=\"display:none;\">\n",
              "\n",
              "<svg xmlns=\"http://www.w3.org/2000/svg\" height=\"24px\"viewBox=\"0 0 24 24\"\n",
              "     width=\"24px\">\n",
              "    <g>\n",
              "        <path d=\"M19 3H5c-1.1 0-2 .9-2 2v14c0 1.1.9 2 2 2h14c1.1 0 2-.9 2-2V5c0-1.1-.9-2-2-2zM9 17H7v-7h2v7zm4 0h-2V7h2v10zm4 0h-2v-4h2v4z\"/>\n",
              "    </g>\n",
              "</svg>\n",
              "  </button>\n",
              "\n",
              "<style>\n",
              "  .colab-df-quickchart {\n",
              "      --bg-color: #E8F0FE;\n",
              "      --fill-color: #1967D2;\n",
              "      --hover-bg-color: #E2EBFA;\n",
              "      --hover-fill-color: #174EA6;\n",
              "      --disabled-fill-color: #AAA;\n",
              "      --disabled-bg-color: #DDD;\n",
              "  }\n",
              "\n",
              "  [theme=dark] .colab-df-quickchart {\n",
              "      --bg-color: #3B4455;\n",
              "      --fill-color: #D2E3FC;\n",
              "      --hover-bg-color: #434B5C;\n",
              "      --hover-fill-color: #FFFFFF;\n",
              "      --disabled-bg-color: #3B4455;\n",
              "      --disabled-fill-color: #666;\n",
              "  }\n",
              "\n",
              "  .colab-df-quickchart {\n",
              "    background-color: var(--bg-color);\n",
              "    border: none;\n",
              "    border-radius: 50%;\n",
              "    cursor: pointer;\n",
              "    display: none;\n",
              "    fill: var(--fill-color);\n",
              "    height: 32px;\n",
              "    padding: 0;\n",
              "    width: 32px;\n",
              "  }\n",
              "\n",
              "  .colab-df-quickchart:hover {\n",
              "    background-color: var(--hover-bg-color);\n",
              "    box-shadow: 0 1px 2px rgba(60, 64, 67, 0.3), 0 1px 3px 1px rgba(60, 64, 67, 0.15);\n",
              "    fill: var(--button-hover-fill-color);\n",
              "  }\n",
              "\n",
              "  .colab-df-quickchart-complete:disabled,\n",
              "  .colab-df-quickchart-complete:disabled:hover {\n",
              "    background-color: var(--disabled-bg-color);\n",
              "    fill: var(--disabled-fill-color);\n",
              "    box-shadow: none;\n",
              "  }\n",
              "\n",
              "  .colab-df-spinner {\n",
              "    border: 2px solid var(--fill-color);\n",
              "    border-color: transparent;\n",
              "    border-bottom-color: var(--fill-color);\n",
              "    animation:\n",
              "      spin 1s steps(1) infinite;\n",
              "  }\n",
              "\n",
              "  @keyframes spin {\n",
              "    0% {\n",
              "      border-color: transparent;\n",
              "      border-bottom-color: var(--fill-color);\n",
              "      border-left-color: var(--fill-color);\n",
              "    }\n",
              "    20% {\n",
              "      border-color: transparent;\n",
              "      border-left-color: var(--fill-color);\n",
              "      border-top-color: var(--fill-color);\n",
              "    }\n",
              "    30% {\n",
              "      border-color: transparent;\n",
              "      border-left-color: var(--fill-color);\n",
              "      border-top-color: var(--fill-color);\n",
              "      border-right-color: var(--fill-color);\n",
              "    }\n",
              "    40% {\n",
              "      border-color: transparent;\n",
              "      border-right-color: var(--fill-color);\n",
              "      border-top-color: var(--fill-color);\n",
              "    }\n",
              "    60% {\n",
              "      border-color: transparent;\n",
              "      border-right-color: var(--fill-color);\n",
              "    }\n",
              "    80% {\n",
              "      border-color: transparent;\n",
              "      border-right-color: var(--fill-color);\n",
              "      border-bottom-color: var(--fill-color);\n",
              "    }\n",
              "    90% {\n",
              "      border-color: transparent;\n",
              "      border-bottom-color: var(--fill-color);\n",
              "    }\n",
              "  }\n",
              "</style>\n",
              "\n",
              "  <script>\n",
              "    async function quickchart(key) {\n",
              "      const quickchartButtonEl =\n",
              "        document.querySelector('#' + key + ' button');\n",
              "      quickchartButtonEl.disabled = true;  // To prevent multiple clicks.\n",
              "      quickchartButtonEl.classList.add('colab-df-spinner');\n",
              "      try {\n",
              "        const charts = await google.colab.kernel.invokeFunction(\n",
              "            'suggestCharts', [key], {});\n",
              "      } catch (error) {\n",
              "        console.error('Error during call to suggestCharts:', error);\n",
              "      }\n",
              "      quickchartButtonEl.classList.remove('colab-df-spinner');\n",
              "      quickchartButtonEl.classList.add('colab-df-quickchart-complete');\n",
              "    }\n",
              "    (() => {\n",
              "      let quickchartButtonEl =\n",
              "        document.querySelector('#df-c4fbc55f-fbb0-4d2f-ad43-439ef03bb03f button');\n",
              "      quickchartButtonEl.style.display =\n",
              "        google.colab.kernel.accessAllowed ? 'block' : 'none';\n",
              "    })();\n",
              "  </script>\n",
              "</div>\n",
              "    </div>\n",
              "  </div>\n"
            ]
          },
          "metadata": {},
          "execution_count": 47
        }
      ],
      "source": [
        "df.head()"
      ]
    },
    {
      "cell_type": "code",
      "execution_count": 48,
      "id": "c60e93d8",
      "metadata": {
        "id": "c60e93d8",
        "colab": {
          "base_uri": "https://localhost:8080/"
        },
        "outputId": "6908f8f4-3fe8-48e9-b874-c0f05d1ff9b8"
      },
      "outputs": [
        {
          "output_type": "execute_result",
          "data": {
            "text/plain": [
              "(12684, 26)"
            ]
          },
          "metadata": {},
          "execution_count": 48
        }
      ],
      "source": [
        "df.shape"
      ]
    },
    {
      "cell_type": "code",
      "execution_count": 49,
      "id": "5e3c0f41",
      "metadata": {
        "id": "5e3c0f41",
        "colab": {
          "base_uri": "https://localhost:8080/"
        },
        "outputId": "0243c254-18f0-4b42-b1b4-82bbb9b5f674"
      },
      "outputs": [
        {
          "output_type": "stream",
          "name": "stdout",
          "text": [
            "<class 'pandas.core.frame.DataFrame'>\n",
            "RangeIndex: 12684 entries, 0 to 12683\n",
            "Data columns (total 26 columns):\n",
            " #   Column                Non-Null Count  Dtype \n",
            "---  ------                --------------  ----- \n",
            " 0   destination           12684 non-null  object\n",
            " 1   passanger             12684 non-null  object\n",
            " 2   weather               12684 non-null  object\n",
            " 3   temperature           12684 non-null  int64 \n",
            " 4   time                  12684 non-null  object\n",
            " 5   coupon                12684 non-null  object\n",
            " 6   expiration            12684 non-null  object\n",
            " 7   gender                12684 non-null  object\n",
            " 8   age                   12684 non-null  object\n",
            " 9   maritalStatus         12684 non-null  object\n",
            " 10  has_children          12684 non-null  int64 \n",
            " 11  education             12684 non-null  object\n",
            " 12  occupation            12684 non-null  object\n",
            " 13  income                12684 non-null  object\n",
            " 14  car                   108 non-null    object\n",
            " 15  Bar                   12577 non-null  object\n",
            " 16  CoffeeHouse           12467 non-null  object\n",
            " 17  CarryAway             12533 non-null  object\n",
            " 18  RestaurantLessThan20  12554 non-null  object\n",
            " 19  Restaurant20To50      12495 non-null  object\n",
            " 20  toCoupon_GEQ5min      12684 non-null  int64 \n",
            " 21  toCoupon_GEQ15min     12684 non-null  int64 \n",
            " 22  toCoupon_GEQ25min     12684 non-null  int64 \n",
            " 23  direction_same        12684 non-null  int64 \n",
            " 24  direction_opp         12684 non-null  int64 \n",
            " 25  Y                     12684 non-null  int64 \n",
            "dtypes: int64(8), object(18)\n",
            "memory usage: 2.5+ MB\n"
          ]
        }
      ],
      "source": [
        "df.info()"
      ]
    },
    {
      "cell_type": "code",
      "execution_count": 50,
      "id": "92596943",
      "metadata": {
        "id": "92596943",
        "colab": {
          "base_uri": "https://localhost:8080/"
        },
        "outputId": "4dfaea65-3d10-40a6-b532-5f5940abf5c2"
      },
      "outputs": [
        {
          "output_type": "execute_result",
          "data": {
            "text/plain": [
              "destination                 0\n",
              "passanger                   0\n",
              "weather                     0\n",
              "temperature                 0\n",
              "time                        0\n",
              "coupon                      0\n",
              "expiration                  0\n",
              "gender                      0\n",
              "age                         0\n",
              "maritalStatus               0\n",
              "has_children                0\n",
              "education                   0\n",
              "occupation                  0\n",
              "income                      0\n",
              "car                     12576\n",
              "Bar                       107\n",
              "CoffeeHouse               217\n",
              "CarryAway                 151\n",
              "RestaurantLessThan20      130\n",
              "Restaurant20To50          189\n",
              "toCoupon_GEQ5min            0\n",
              "toCoupon_GEQ15min           0\n",
              "toCoupon_GEQ25min           0\n",
              "direction_same              0\n",
              "direction_opp               0\n",
              "Y                           0\n",
              "dtype: int64"
            ]
          },
          "metadata": {},
          "execution_count": 50
        }
      ],
      "source": [
        "df.isnull().sum()"
      ]
    },
    {
      "cell_type": "code",
      "execution_count": 51,
      "id": "eddec423",
      "metadata": {
        "id": "eddec423",
        "colab": {
          "base_uri": "https://localhost:8080/",
          "height": 300
        },
        "outputId": "769ee9f7-c49b-46b9-9c55-d5a6af5abaed"
      },
      "outputs": [
        {
          "output_type": "execute_result",
          "data": {
            "text/plain": [
              "        temperature  has_children  toCoupon_GEQ5min  toCoupon_GEQ15min  \\\n",
              "count  12684.000000  12684.000000           12684.0       12684.000000   \n",
              "mean      63.301798      0.414144               1.0           0.561495   \n",
              "std       19.154486      0.492593               0.0           0.496224   \n",
              "min       30.000000      0.000000               1.0           0.000000   \n",
              "25%       55.000000      0.000000               1.0           0.000000   \n",
              "50%       80.000000      0.000000               1.0           1.000000   \n",
              "75%       80.000000      1.000000               1.0           1.000000   \n",
              "max       80.000000      1.000000               1.0           1.000000   \n",
              "\n",
              "       toCoupon_GEQ25min  direction_same  direction_opp             Y  \n",
              "count       12684.000000    12684.000000   12684.000000  12684.000000  \n",
              "mean            0.119126        0.214759       0.785241      0.568433  \n",
              "std             0.323950        0.410671       0.410671      0.495314  \n",
              "min             0.000000        0.000000       0.000000      0.000000  \n",
              "25%             0.000000        0.000000       1.000000      0.000000  \n",
              "50%             0.000000        0.000000       1.000000      1.000000  \n",
              "75%             0.000000        0.000000       1.000000      1.000000  \n",
              "max             1.000000        1.000000       1.000000      1.000000  "
            ],
            "text/html": [
              "\n",
              "  <div id=\"df-ab621738-6d4a-4c54-9276-b8aaf5764cfd\" class=\"colab-df-container\">\n",
              "    <div>\n",
              "<style scoped>\n",
              "    .dataframe tbody tr th:only-of-type {\n",
              "        vertical-align: middle;\n",
              "    }\n",
              "\n",
              "    .dataframe tbody tr th {\n",
              "        vertical-align: top;\n",
              "    }\n",
              "\n",
              "    .dataframe thead th {\n",
              "        text-align: right;\n",
              "    }\n",
              "</style>\n",
              "<table border=\"1\" class=\"dataframe\">\n",
              "  <thead>\n",
              "    <tr style=\"text-align: right;\">\n",
              "      <th></th>\n",
              "      <th>temperature</th>\n",
              "      <th>has_children</th>\n",
              "      <th>toCoupon_GEQ5min</th>\n",
              "      <th>toCoupon_GEQ15min</th>\n",
              "      <th>toCoupon_GEQ25min</th>\n",
              "      <th>direction_same</th>\n",
              "      <th>direction_opp</th>\n",
              "      <th>Y</th>\n",
              "    </tr>\n",
              "  </thead>\n",
              "  <tbody>\n",
              "    <tr>\n",
              "      <th>count</th>\n",
              "      <td>12684.000000</td>\n",
              "      <td>12684.000000</td>\n",
              "      <td>12684.0</td>\n",
              "      <td>12684.000000</td>\n",
              "      <td>12684.000000</td>\n",
              "      <td>12684.000000</td>\n",
              "      <td>12684.000000</td>\n",
              "      <td>12684.000000</td>\n",
              "    </tr>\n",
              "    <tr>\n",
              "      <th>mean</th>\n",
              "      <td>63.301798</td>\n",
              "      <td>0.414144</td>\n",
              "      <td>1.0</td>\n",
              "      <td>0.561495</td>\n",
              "      <td>0.119126</td>\n",
              "      <td>0.214759</td>\n",
              "      <td>0.785241</td>\n",
              "      <td>0.568433</td>\n",
              "    </tr>\n",
              "    <tr>\n",
              "      <th>std</th>\n",
              "      <td>19.154486</td>\n",
              "      <td>0.492593</td>\n",
              "      <td>0.0</td>\n",
              "      <td>0.496224</td>\n",
              "      <td>0.323950</td>\n",
              "      <td>0.410671</td>\n",
              "      <td>0.410671</td>\n",
              "      <td>0.495314</td>\n",
              "    </tr>\n",
              "    <tr>\n",
              "      <th>min</th>\n",
              "      <td>30.000000</td>\n",
              "      <td>0.000000</td>\n",
              "      <td>1.0</td>\n",
              "      <td>0.000000</td>\n",
              "      <td>0.000000</td>\n",
              "      <td>0.000000</td>\n",
              "      <td>0.000000</td>\n",
              "      <td>0.000000</td>\n",
              "    </tr>\n",
              "    <tr>\n",
              "      <th>25%</th>\n",
              "      <td>55.000000</td>\n",
              "      <td>0.000000</td>\n",
              "      <td>1.0</td>\n",
              "      <td>0.000000</td>\n",
              "      <td>0.000000</td>\n",
              "      <td>0.000000</td>\n",
              "      <td>1.000000</td>\n",
              "      <td>0.000000</td>\n",
              "    </tr>\n",
              "    <tr>\n",
              "      <th>50%</th>\n",
              "      <td>80.000000</td>\n",
              "      <td>0.000000</td>\n",
              "      <td>1.0</td>\n",
              "      <td>1.000000</td>\n",
              "      <td>0.000000</td>\n",
              "      <td>0.000000</td>\n",
              "      <td>1.000000</td>\n",
              "      <td>1.000000</td>\n",
              "    </tr>\n",
              "    <tr>\n",
              "      <th>75%</th>\n",
              "      <td>80.000000</td>\n",
              "      <td>1.000000</td>\n",
              "      <td>1.0</td>\n",
              "      <td>1.000000</td>\n",
              "      <td>0.000000</td>\n",
              "      <td>0.000000</td>\n",
              "      <td>1.000000</td>\n",
              "      <td>1.000000</td>\n",
              "    </tr>\n",
              "    <tr>\n",
              "      <th>max</th>\n",
              "      <td>80.000000</td>\n",
              "      <td>1.000000</td>\n",
              "      <td>1.0</td>\n",
              "      <td>1.000000</td>\n",
              "      <td>1.000000</td>\n",
              "      <td>1.000000</td>\n",
              "      <td>1.000000</td>\n",
              "      <td>1.000000</td>\n",
              "    </tr>\n",
              "  </tbody>\n",
              "</table>\n",
              "</div>\n",
              "    <div class=\"colab-df-buttons\">\n",
              "\n",
              "  <div class=\"colab-df-container\">\n",
              "    <button class=\"colab-df-convert\" onclick=\"convertToInteractive('df-ab621738-6d4a-4c54-9276-b8aaf5764cfd')\"\n",
              "            title=\"Convert this dataframe to an interactive table.\"\n",
              "            style=\"display:none;\">\n",
              "\n",
              "  <svg xmlns=\"http://www.w3.org/2000/svg\" height=\"24px\" viewBox=\"0 -960 960 960\">\n",
              "    <path d=\"M120-120v-720h720v720H120Zm60-500h600v-160H180v160Zm220 220h160v-160H400v160Zm0 220h160v-160H400v160ZM180-400h160v-160H180v160Zm440 0h160v-160H620v160ZM180-180h160v-160H180v160Zm440 0h160v-160H620v160Z\"/>\n",
              "  </svg>\n",
              "    </button>\n",
              "\n",
              "  <style>\n",
              "    .colab-df-container {\n",
              "      display:flex;\n",
              "      gap: 12px;\n",
              "    }\n",
              "\n",
              "    .colab-df-convert {\n",
              "      background-color: #E8F0FE;\n",
              "      border: none;\n",
              "      border-radius: 50%;\n",
              "      cursor: pointer;\n",
              "      display: none;\n",
              "      fill: #1967D2;\n",
              "      height: 32px;\n",
              "      padding: 0 0 0 0;\n",
              "      width: 32px;\n",
              "    }\n",
              "\n",
              "    .colab-df-convert:hover {\n",
              "      background-color: #E2EBFA;\n",
              "      box-shadow: 0px 1px 2px rgba(60, 64, 67, 0.3), 0px 1px 3px 1px rgba(60, 64, 67, 0.15);\n",
              "      fill: #174EA6;\n",
              "    }\n",
              "\n",
              "    .colab-df-buttons div {\n",
              "      margin-bottom: 4px;\n",
              "    }\n",
              "\n",
              "    [theme=dark] .colab-df-convert {\n",
              "      background-color: #3B4455;\n",
              "      fill: #D2E3FC;\n",
              "    }\n",
              "\n",
              "    [theme=dark] .colab-df-convert:hover {\n",
              "      background-color: #434B5C;\n",
              "      box-shadow: 0px 1px 3px 1px rgba(0, 0, 0, 0.15);\n",
              "      filter: drop-shadow(0px 1px 2px rgba(0, 0, 0, 0.3));\n",
              "      fill: #FFFFFF;\n",
              "    }\n",
              "  </style>\n",
              "\n",
              "    <script>\n",
              "      const buttonEl =\n",
              "        document.querySelector('#df-ab621738-6d4a-4c54-9276-b8aaf5764cfd button.colab-df-convert');\n",
              "      buttonEl.style.display =\n",
              "        google.colab.kernel.accessAllowed ? 'block' : 'none';\n",
              "\n",
              "      async function convertToInteractive(key) {\n",
              "        const element = document.querySelector('#df-ab621738-6d4a-4c54-9276-b8aaf5764cfd');\n",
              "        const dataTable =\n",
              "          await google.colab.kernel.invokeFunction('convertToInteractive',\n",
              "                                                    [key], {});\n",
              "        if (!dataTable) return;\n",
              "\n",
              "        const docLinkHtml = 'Like what you see? Visit the ' +\n",
              "          '<a target=\"_blank\" href=https://colab.research.google.com/notebooks/data_table.ipynb>data table notebook</a>'\n",
              "          + ' to learn more about interactive tables.';\n",
              "        element.innerHTML = '';\n",
              "        dataTable['output_type'] = 'display_data';\n",
              "        await google.colab.output.renderOutput(dataTable, element);\n",
              "        const docLink = document.createElement('div');\n",
              "        docLink.innerHTML = docLinkHtml;\n",
              "        element.appendChild(docLink);\n",
              "      }\n",
              "    </script>\n",
              "  </div>\n",
              "\n",
              "\n",
              "<div id=\"df-5f1de5b0-54c1-4a7d-b3ee-25e550798042\">\n",
              "  <button class=\"colab-df-quickchart\" onclick=\"quickchart('df-5f1de5b0-54c1-4a7d-b3ee-25e550798042')\"\n",
              "            title=\"Suggest charts\"\n",
              "            style=\"display:none;\">\n",
              "\n",
              "<svg xmlns=\"http://www.w3.org/2000/svg\" height=\"24px\"viewBox=\"0 0 24 24\"\n",
              "     width=\"24px\">\n",
              "    <g>\n",
              "        <path d=\"M19 3H5c-1.1 0-2 .9-2 2v14c0 1.1.9 2 2 2h14c1.1 0 2-.9 2-2V5c0-1.1-.9-2-2-2zM9 17H7v-7h2v7zm4 0h-2V7h2v10zm4 0h-2v-4h2v4z\"/>\n",
              "    </g>\n",
              "</svg>\n",
              "  </button>\n",
              "\n",
              "<style>\n",
              "  .colab-df-quickchart {\n",
              "      --bg-color: #E8F0FE;\n",
              "      --fill-color: #1967D2;\n",
              "      --hover-bg-color: #E2EBFA;\n",
              "      --hover-fill-color: #174EA6;\n",
              "      --disabled-fill-color: #AAA;\n",
              "      --disabled-bg-color: #DDD;\n",
              "  }\n",
              "\n",
              "  [theme=dark] .colab-df-quickchart {\n",
              "      --bg-color: #3B4455;\n",
              "      --fill-color: #D2E3FC;\n",
              "      --hover-bg-color: #434B5C;\n",
              "      --hover-fill-color: #FFFFFF;\n",
              "      --disabled-bg-color: #3B4455;\n",
              "      --disabled-fill-color: #666;\n",
              "  }\n",
              "\n",
              "  .colab-df-quickchart {\n",
              "    background-color: var(--bg-color);\n",
              "    border: none;\n",
              "    border-radius: 50%;\n",
              "    cursor: pointer;\n",
              "    display: none;\n",
              "    fill: var(--fill-color);\n",
              "    height: 32px;\n",
              "    padding: 0;\n",
              "    width: 32px;\n",
              "  }\n",
              "\n",
              "  .colab-df-quickchart:hover {\n",
              "    background-color: var(--hover-bg-color);\n",
              "    box-shadow: 0 1px 2px rgba(60, 64, 67, 0.3), 0 1px 3px 1px rgba(60, 64, 67, 0.15);\n",
              "    fill: var(--button-hover-fill-color);\n",
              "  }\n",
              "\n",
              "  .colab-df-quickchart-complete:disabled,\n",
              "  .colab-df-quickchart-complete:disabled:hover {\n",
              "    background-color: var(--disabled-bg-color);\n",
              "    fill: var(--disabled-fill-color);\n",
              "    box-shadow: none;\n",
              "  }\n",
              "\n",
              "  .colab-df-spinner {\n",
              "    border: 2px solid var(--fill-color);\n",
              "    border-color: transparent;\n",
              "    border-bottom-color: var(--fill-color);\n",
              "    animation:\n",
              "      spin 1s steps(1) infinite;\n",
              "  }\n",
              "\n",
              "  @keyframes spin {\n",
              "    0% {\n",
              "      border-color: transparent;\n",
              "      border-bottom-color: var(--fill-color);\n",
              "      border-left-color: var(--fill-color);\n",
              "    }\n",
              "    20% {\n",
              "      border-color: transparent;\n",
              "      border-left-color: var(--fill-color);\n",
              "      border-top-color: var(--fill-color);\n",
              "    }\n",
              "    30% {\n",
              "      border-color: transparent;\n",
              "      border-left-color: var(--fill-color);\n",
              "      border-top-color: var(--fill-color);\n",
              "      border-right-color: var(--fill-color);\n",
              "    }\n",
              "    40% {\n",
              "      border-color: transparent;\n",
              "      border-right-color: var(--fill-color);\n",
              "      border-top-color: var(--fill-color);\n",
              "    }\n",
              "    60% {\n",
              "      border-color: transparent;\n",
              "      border-right-color: var(--fill-color);\n",
              "    }\n",
              "    80% {\n",
              "      border-color: transparent;\n",
              "      border-right-color: var(--fill-color);\n",
              "      border-bottom-color: var(--fill-color);\n",
              "    }\n",
              "    90% {\n",
              "      border-color: transparent;\n",
              "      border-bottom-color: var(--fill-color);\n",
              "    }\n",
              "  }\n",
              "</style>\n",
              "\n",
              "  <script>\n",
              "    async function quickchart(key) {\n",
              "      const quickchartButtonEl =\n",
              "        document.querySelector('#' + key + ' button');\n",
              "      quickchartButtonEl.disabled = true;  // To prevent multiple clicks.\n",
              "      quickchartButtonEl.classList.add('colab-df-spinner');\n",
              "      try {\n",
              "        const charts = await google.colab.kernel.invokeFunction(\n",
              "            'suggestCharts', [key], {});\n",
              "      } catch (error) {\n",
              "        console.error('Error during call to suggestCharts:', error);\n",
              "      }\n",
              "      quickchartButtonEl.classList.remove('colab-df-spinner');\n",
              "      quickchartButtonEl.classList.add('colab-df-quickchart-complete');\n",
              "    }\n",
              "    (() => {\n",
              "      let quickchartButtonEl =\n",
              "        document.querySelector('#df-5f1de5b0-54c1-4a7d-b3ee-25e550798042 button');\n",
              "      quickchartButtonEl.style.display =\n",
              "        google.colab.kernel.accessAllowed ? 'block' : 'none';\n",
              "    })();\n",
              "  </script>\n",
              "</div>\n",
              "    </div>\n",
              "  </div>\n"
            ]
          },
          "metadata": {},
          "execution_count": 51
        }
      ],
      "source": [
        "df.describe()"
      ]
    },
    {
      "cell_type": "code",
      "source": [
        "!pip install pandas-profiling"
      ],
      "metadata": {
        "id": "TzcYudR6M54M"
      },
      "id": "TzcYudR6M54M",
      "execution_count": null,
      "outputs": []
    },
    {
      "cell_type": "code",
      "source": [
        "from pandas_profiling import ProfileReport\n",
        "profile = ProfileReport(dataset, title=\"EDA Report\")\n",
        "profile"
      ],
      "metadata": {
        "id": "5VWQFwB5Mthv"
      },
      "id": "5VWQFwB5Mthv",
      "execution_count": null,
      "outputs": []
    },
    {
      "cell_type": "code",
      "source": [
        "round((df[['car','CoffeeHouse','Restaurant20To50','CarryAway','RestaurantLessThan20','Bar']].isnull().sum()*100/len(df)),2)"
      ],
      "metadata": {
        "id": "KuNcHmzWMxYQ",
        "colab": {
          "base_uri": "https://localhost:8080/"
        },
        "outputId": "8baab6d8-18c5-4f21-ebff-a9776955160d"
      },
      "id": "KuNcHmzWMxYQ",
      "execution_count": 52,
      "outputs": [
        {
          "output_type": "execute_result",
          "data": {
            "text/plain": [
              "car                     99.15\n",
              "CoffeeHouse              1.71\n",
              "Restaurant20To50         1.49\n",
              "CarryAway                1.19\n",
              "RestaurantLessThan20     1.02\n",
              "Bar                      0.84\n",
              "dtype: float64"
            ]
          },
          "metadata": {},
          "execution_count": 52
        }
      ]
    },
    {
      "cell_type": "code",
      "source": [
        "droped_column = ['car','toCoupon_GEQ5min','direction_same','direction_opp']\n",
        "df = df.drop(columns = droped_column)"
      ],
      "metadata": {
        "id": "ePYHmBsGbb76"
      },
      "id": "ePYHmBsGbb76",
      "execution_count": 53,
      "outputs": []
    },
    {
      "cell_type": "code",
      "source": [
        "round((df[['CoffeeHouse','Restaurant20To50','CarryAway','RestaurantLessThan20','Bar']].isnull().sum()*100/len(df)),2)"
      ],
      "metadata": {
        "id": "uykkPmMxblFV",
        "colab": {
          "base_uri": "https://localhost:8080/"
        },
        "outputId": "b3edba64-c85d-4815-e47e-15f6229d3718"
      },
      "id": "uykkPmMxblFV",
      "execution_count": 54,
      "outputs": [
        {
          "output_type": "execute_result",
          "data": {
            "text/plain": [
              "CoffeeHouse             1.71\n",
              "Restaurant20To50        1.49\n",
              "CarryAway               1.19\n",
              "RestaurantLessThan20    1.02\n",
              "Bar                     0.84\n",
              "dtype: float64"
            ]
          },
          "metadata": {},
          "execution_count": 54
        }
      ]
    },
    {
      "cell_type": "code",
      "source": [
        "val_counts_weather = df['weather'].value_counts()\n",
        "\n",
        "val_counts_weather_with_y = df.groupby(['weather','Y']).size().reset_index(name=\"counts\")\n",
        "\n",
        "\n",
        "px.pie(names = val_counts_weather.index, values = val_counts_weather, title = 'Weather Frequency', width = 800, height = 600)"
      ],
      "metadata": {
        "id": "Ek4wsx8VkS2v",
        "colab": {
          "base_uri": "https://localhost:8080/",
          "height": 617
        },
        "outputId": "86f922fb-e7ff-4cac-b393-5787d072f4ef"
      },
      "id": "Ek4wsx8VkS2v",
      "execution_count": 13,
      "outputs": [
        {
          "output_type": "display_data",
          "data": {
            "text/html": [
              "<html>\n",
              "<head><meta charset=\"utf-8\" /></head>\n",
              "<body>\n",
              "    <div>            <script src=\"https://cdnjs.cloudflare.com/ajax/libs/mathjax/2.7.5/MathJax.js?config=TeX-AMS-MML_SVG\"></script><script type=\"text/javascript\">if (window.MathJax && window.MathJax.Hub && window.MathJax.Hub.Config) {window.MathJax.Hub.Config({SVG: {font: \"STIX-Web\"}});}</script>                <script type=\"text/javascript\">window.PlotlyConfig = {MathJaxConfig: 'local'};</script>\n",
              "        <script charset=\"utf-8\" src=\"https://cdn.plot.ly/plotly-2.24.1.min.js\"></script>                <div id=\"7597ff4e-d3cf-4d1b-8662-28c93d0d2f5d\" class=\"plotly-graph-div\" style=\"height:600px; width:800px;\"></div>            <script type=\"text/javascript\">                                    window.PLOTLYENV=window.PLOTLYENV || {};                                    if (document.getElementById(\"7597ff4e-d3cf-4d1b-8662-28c93d0d2f5d\")) {                    Plotly.newPlot(                        \"7597ff4e-d3cf-4d1b-8662-28c93d0d2f5d\",                        [{\"domain\":{\"x\":[0.0,1.0],\"y\":[0.0,1.0]},\"hovertemplate\":\"label=%{label}\\u003cbr\\u003evalue=%{value}\\u003cextra\\u003e\\u003c\\u002fextra\\u003e\",\"labels\":[\"Sunny\",\"Snowy\",\"Rainy\"],\"legendgroup\":\"\",\"name\":\"\",\"showlegend\":true,\"values\":[10069,1405,1210],\"type\":\"pie\"}],                        {\"template\":{\"data\":{\"histogram2dcontour\":[{\"type\":\"histogram2dcontour\",\"colorbar\":{\"outlinewidth\":0,\"ticks\":\"\"},\"colorscale\":[[0.0,\"#0d0887\"],[0.1111111111111111,\"#46039f\"],[0.2222222222222222,\"#7201a8\"],[0.3333333333333333,\"#9c179e\"],[0.4444444444444444,\"#bd3786\"],[0.5555555555555556,\"#d8576b\"],[0.6666666666666666,\"#ed7953\"],[0.7777777777777778,\"#fb9f3a\"],[0.8888888888888888,\"#fdca26\"],[1.0,\"#f0f921\"]]}],\"choropleth\":[{\"type\":\"choropleth\",\"colorbar\":{\"outlinewidth\":0,\"ticks\":\"\"}}],\"histogram2d\":[{\"type\":\"histogram2d\",\"colorbar\":{\"outlinewidth\":0,\"ticks\":\"\"},\"colorscale\":[[0.0,\"#0d0887\"],[0.1111111111111111,\"#46039f\"],[0.2222222222222222,\"#7201a8\"],[0.3333333333333333,\"#9c179e\"],[0.4444444444444444,\"#bd3786\"],[0.5555555555555556,\"#d8576b\"],[0.6666666666666666,\"#ed7953\"],[0.7777777777777778,\"#fb9f3a\"],[0.8888888888888888,\"#fdca26\"],[1.0,\"#f0f921\"]]}],\"heatmap\":[{\"type\":\"heatmap\",\"colorbar\":{\"outlinewidth\":0,\"ticks\":\"\"},\"colorscale\":[[0.0,\"#0d0887\"],[0.1111111111111111,\"#46039f\"],[0.2222222222222222,\"#7201a8\"],[0.3333333333333333,\"#9c179e\"],[0.4444444444444444,\"#bd3786\"],[0.5555555555555556,\"#d8576b\"],[0.6666666666666666,\"#ed7953\"],[0.7777777777777778,\"#fb9f3a\"],[0.8888888888888888,\"#fdca26\"],[1.0,\"#f0f921\"]]}],\"heatmapgl\":[{\"type\":\"heatmapgl\",\"colorbar\":{\"outlinewidth\":0,\"ticks\":\"\"},\"colorscale\":[[0.0,\"#0d0887\"],[0.1111111111111111,\"#46039f\"],[0.2222222222222222,\"#7201a8\"],[0.3333333333333333,\"#9c179e\"],[0.4444444444444444,\"#bd3786\"],[0.5555555555555556,\"#d8576b\"],[0.6666666666666666,\"#ed7953\"],[0.7777777777777778,\"#fb9f3a\"],[0.8888888888888888,\"#fdca26\"],[1.0,\"#f0f921\"]]}],\"contourcarpet\":[{\"type\":\"contourcarpet\",\"colorbar\":{\"outlinewidth\":0,\"ticks\":\"\"}}],\"contour\":[{\"type\":\"contour\",\"colorbar\":{\"outlinewidth\":0,\"ticks\":\"\"},\"colorscale\":[[0.0,\"#0d0887\"],[0.1111111111111111,\"#46039f\"],[0.2222222222222222,\"#7201a8\"],[0.3333333333333333,\"#9c179e\"],[0.4444444444444444,\"#bd3786\"],[0.5555555555555556,\"#d8576b\"],[0.6666666666666666,\"#ed7953\"],[0.7777777777777778,\"#fb9f3a\"],[0.8888888888888888,\"#fdca26\"],[1.0,\"#f0f921\"]]}],\"surface\":[{\"type\":\"surface\",\"colorbar\":{\"outlinewidth\":0,\"ticks\":\"\"},\"colorscale\":[[0.0,\"#0d0887\"],[0.1111111111111111,\"#46039f\"],[0.2222222222222222,\"#7201a8\"],[0.3333333333333333,\"#9c179e\"],[0.4444444444444444,\"#bd3786\"],[0.5555555555555556,\"#d8576b\"],[0.6666666666666666,\"#ed7953\"],[0.7777777777777778,\"#fb9f3a\"],[0.8888888888888888,\"#fdca26\"],[1.0,\"#f0f921\"]]}],\"mesh3d\":[{\"type\":\"mesh3d\",\"colorbar\":{\"outlinewidth\":0,\"ticks\":\"\"}}],\"scatter\":[{\"fillpattern\":{\"fillmode\":\"overlay\",\"size\":10,\"solidity\":0.2},\"type\":\"scatter\"}],\"parcoords\":[{\"type\":\"parcoords\",\"line\":{\"colorbar\":{\"outlinewidth\":0,\"ticks\":\"\"}}}],\"scatterpolargl\":[{\"type\":\"scatterpolargl\",\"marker\":{\"colorbar\":{\"outlinewidth\":0,\"ticks\":\"\"}}}],\"bar\":[{\"error_x\":{\"color\":\"#2a3f5f\"},\"error_y\":{\"color\":\"#2a3f5f\"},\"marker\":{\"line\":{\"color\":\"#E5ECF6\",\"width\":0.5},\"pattern\":{\"fillmode\":\"overlay\",\"size\":10,\"solidity\":0.2}},\"type\":\"bar\"}],\"scattergeo\":[{\"type\":\"scattergeo\",\"marker\":{\"colorbar\":{\"outlinewidth\":0,\"ticks\":\"\"}}}],\"scatterpolar\":[{\"type\":\"scatterpolar\",\"marker\":{\"colorbar\":{\"outlinewidth\":0,\"ticks\":\"\"}}}],\"histogram\":[{\"marker\":{\"pattern\":{\"fillmode\":\"overlay\",\"size\":10,\"solidity\":0.2}},\"type\":\"histogram\"}],\"scattergl\":[{\"type\":\"scattergl\",\"marker\":{\"colorbar\":{\"outlinewidth\":0,\"ticks\":\"\"}}}],\"scatter3d\":[{\"type\":\"scatter3d\",\"line\":{\"colorbar\":{\"outlinewidth\":0,\"ticks\":\"\"}},\"marker\":{\"colorbar\":{\"outlinewidth\":0,\"ticks\":\"\"}}}],\"scattermapbox\":[{\"type\":\"scattermapbox\",\"marker\":{\"colorbar\":{\"outlinewidth\":0,\"ticks\":\"\"}}}],\"scatterternary\":[{\"type\":\"scatterternary\",\"marker\":{\"colorbar\":{\"outlinewidth\":0,\"ticks\":\"\"}}}],\"scattercarpet\":[{\"type\":\"scattercarpet\",\"marker\":{\"colorbar\":{\"outlinewidth\":0,\"ticks\":\"\"}}}],\"carpet\":[{\"aaxis\":{\"endlinecolor\":\"#2a3f5f\",\"gridcolor\":\"white\",\"linecolor\":\"white\",\"minorgridcolor\":\"white\",\"startlinecolor\":\"#2a3f5f\"},\"baxis\":{\"endlinecolor\":\"#2a3f5f\",\"gridcolor\":\"white\",\"linecolor\":\"white\",\"minorgridcolor\":\"white\",\"startlinecolor\":\"#2a3f5f\"},\"type\":\"carpet\"}],\"table\":[{\"cells\":{\"fill\":{\"color\":\"#EBF0F8\"},\"line\":{\"color\":\"white\"}},\"header\":{\"fill\":{\"color\":\"#C8D4E3\"},\"line\":{\"color\":\"white\"}},\"type\":\"table\"}],\"barpolar\":[{\"marker\":{\"line\":{\"color\":\"#E5ECF6\",\"width\":0.5},\"pattern\":{\"fillmode\":\"overlay\",\"size\":10,\"solidity\":0.2}},\"type\":\"barpolar\"}],\"pie\":[{\"automargin\":true,\"type\":\"pie\"}]},\"layout\":{\"autotypenumbers\":\"strict\",\"colorway\":[\"#636efa\",\"#EF553B\",\"#00cc96\",\"#ab63fa\",\"#FFA15A\",\"#19d3f3\",\"#FF6692\",\"#B6E880\",\"#FF97FF\",\"#FECB52\"],\"font\":{\"color\":\"#2a3f5f\"},\"hovermode\":\"closest\",\"hoverlabel\":{\"align\":\"left\"},\"paper_bgcolor\":\"white\",\"plot_bgcolor\":\"#E5ECF6\",\"polar\":{\"bgcolor\":\"#E5ECF6\",\"angularaxis\":{\"gridcolor\":\"white\",\"linecolor\":\"white\",\"ticks\":\"\"},\"radialaxis\":{\"gridcolor\":\"white\",\"linecolor\":\"white\",\"ticks\":\"\"}},\"ternary\":{\"bgcolor\":\"#E5ECF6\",\"aaxis\":{\"gridcolor\":\"white\",\"linecolor\":\"white\",\"ticks\":\"\"},\"baxis\":{\"gridcolor\":\"white\",\"linecolor\":\"white\",\"ticks\":\"\"},\"caxis\":{\"gridcolor\":\"white\",\"linecolor\":\"white\",\"ticks\":\"\"}},\"coloraxis\":{\"colorbar\":{\"outlinewidth\":0,\"ticks\":\"\"}},\"colorscale\":{\"sequential\":[[0.0,\"#0d0887\"],[0.1111111111111111,\"#46039f\"],[0.2222222222222222,\"#7201a8\"],[0.3333333333333333,\"#9c179e\"],[0.4444444444444444,\"#bd3786\"],[0.5555555555555556,\"#d8576b\"],[0.6666666666666666,\"#ed7953\"],[0.7777777777777778,\"#fb9f3a\"],[0.8888888888888888,\"#fdca26\"],[1.0,\"#f0f921\"]],\"sequentialminus\":[[0.0,\"#0d0887\"],[0.1111111111111111,\"#46039f\"],[0.2222222222222222,\"#7201a8\"],[0.3333333333333333,\"#9c179e\"],[0.4444444444444444,\"#bd3786\"],[0.5555555555555556,\"#d8576b\"],[0.6666666666666666,\"#ed7953\"],[0.7777777777777778,\"#fb9f3a\"],[0.8888888888888888,\"#fdca26\"],[1.0,\"#f0f921\"]],\"diverging\":[[0,\"#8e0152\"],[0.1,\"#c51b7d\"],[0.2,\"#de77ae\"],[0.3,\"#f1b6da\"],[0.4,\"#fde0ef\"],[0.5,\"#f7f7f7\"],[0.6,\"#e6f5d0\"],[0.7,\"#b8e186\"],[0.8,\"#7fbc41\"],[0.9,\"#4d9221\"],[1,\"#276419\"]]},\"xaxis\":{\"gridcolor\":\"white\",\"linecolor\":\"white\",\"ticks\":\"\",\"title\":{\"standoff\":15},\"zerolinecolor\":\"white\",\"automargin\":true,\"zerolinewidth\":2},\"yaxis\":{\"gridcolor\":\"white\",\"linecolor\":\"white\",\"ticks\":\"\",\"title\":{\"standoff\":15},\"zerolinecolor\":\"white\",\"automargin\":true,\"zerolinewidth\":2},\"scene\":{\"xaxis\":{\"backgroundcolor\":\"#E5ECF6\",\"gridcolor\":\"white\",\"linecolor\":\"white\",\"showbackground\":true,\"ticks\":\"\",\"zerolinecolor\":\"white\",\"gridwidth\":2},\"yaxis\":{\"backgroundcolor\":\"#E5ECF6\",\"gridcolor\":\"white\",\"linecolor\":\"white\",\"showbackground\":true,\"ticks\":\"\",\"zerolinecolor\":\"white\",\"gridwidth\":2},\"zaxis\":{\"backgroundcolor\":\"#E5ECF6\",\"gridcolor\":\"white\",\"linecolor\":\"white\",\"showbackground\":true,\"ticks\":\"\",\"zerolinecolor\":\"white\",\"gridwidth\":2}},\"shapedefaults\":{\"line\":{\"color\":\"#2a3f5f\"}},\"annotationdefaults\":{\"arrowcolor\":\"#2a3f5f\",\"arrowhead\":0,\"arrowwidth\":1},\"geo\":{\"bgcolor\":\"white\",\"landcolor\":\"#E5ECF6\",\"subunitcolor\":\"white\",\"showland\":true,\"showlakes\":true,\"lakecolor\":\"white\"},\"title\":{\"x\":0.05},\"mapbox\":{\"style\":\"light\"}}},\"legend\":{\"tracegroupgap\":0},\"title\":{\"text\":\"Weather Frequency\"},\"height\":600,\"width\":800},                        {\"responsive\": true}                    ).then(function(){\n",
              "                            \n",
              "var gd = document.getElementById('7597ff4e-d3cf-4d1b-8662-28c93d0d2f5d');\n",
              "var x = new MutationObserver(function (mutations, observer) {{\n",
              "        var display = window.getComputedStyle(gd).display;\n",
              "        if (!display || display === 'none') {{\n",
              "            console.log([gd, 'removed!']);\n",
              "            Plotly.purge(gd);\n",
              "            observer.disconnect();\n",
              "        }}\n",
              "}});\n",
              "\n",
              "// Listen for the removal of the full notebook cells\n",
              "var notebookContainer = gd.closest('#notebook-container');\n",
              "if (notebookContainer) {{\n",
              "    x.observe(notebookContainer, {childList: true});\n",
              "}}\n",
              "\n",
              "// Listen for the clearing of the current output cell\n",
              "var outputEl = gd.closest('.output');\n",
              "if (outputEl) {{\n",
              "    x.observe(outputEl, {childList: true});\n",
              "}}\n",
              "\n",
              "                        })                };                            </script>        </div>\n",
              "</body>\n",
              "</html>"
            ]
          },
          "metadata": {}
        }
      ]
    },
    {
      "cell_type": "code",
      "source": [
        "#identify all categorical variables\n",
        "cat_columns = df.select_dtypes(['object']).columns\n",
        "\n",
        "#convert all categorical variables to numeric\n",
        "df[cat_columns] = df[cat_columns].apply(lambda x: pd.factorize(x)[0])\n",
        "df.describe()"
      ],
      "metadata": {
        "id": "UGDGf3aKgalB",
        "colab": {
          "base_uri": "https://localhost:8080/",
          "height": 349
        },
        "outputId": "a8e6e902-3c85-43fc-af09-ded4c9aa6f9f"
      },
      "id": "UGDGf3aKgalB",
      "execution_count": 55,
      "outputs": [
        {
          "output_type": "execute_result",
          "data": {
            "text/plain": [
              "        destination     passanger       weather   temperature          time  \\\n",
              "count  12684.000000  12684.000000  12684.000000  12684.000000  12684.000000   \n",
              "mean       0.754100      0.672895      0.316935     63.301798      2.069615   \n",
              "std        0.827275      0.941975      0.661861     19.154486      1.300099   \n",
              "min        0.000000      0.000000      0.000000     30.000000      0.000000   \n",
              "25%        0.000000      0.000000      0.000000     55.000000      1.000000   \n",
              "50%        1.000000      0.000000      0.000000     80.000000      2.000000   \n",
              "75%        1.000000      1.000000      0.000000     80.000000      3.000000   \n",
              "max        2.000000      3.000000      2.000000     80.000000      4.000000   \n",
              "\n",
              "             coupon    expiration        gender           age  maritalStatus  \\\n",
              "count  12684.000000  12684.000000  12684.000000  12684.000000   12684.000000   \n",
              "mean       1.639940      0.440949      0.486676      2.915169       1.341848   \n",
              "std        1.301404      0.496520      0.499842      2.137671       0.844149   \n",
              "min        0.000000      0.000000      0.000000      0.000000       0.000000   \n",
              "25%        1.000000      0.000000      0.000000      1.000000       1.000000   \n",
              "50%        1.000000      0.000000      0.000000      3.000000       1.000000   \n",
              "75%        3.000000      1.000000      1.000000      5.000000       2.000000   \n",
              "max        4.000000      1.000000      1.000000      7.000000       4.000000   \n",
              "\n",
              "       ...    occupation        income           Bar   CoffeeHouse  \\\n",
              "count  ...  12684.000000  12684.000000  12684.000000  12684.000000   \n",
              "mean   ...      7.680227      3.847130      1.077893      1.644197   \n",
              "std    ...      6.320758      2.480907      1.227206      1.353922   \n",
              "min    ...      0.000000      0.000000     -1.000000     -1.000000   \n",
              "25%    ...      2.000000      2.000000      0.000000      0.000000   \n",
              "50%    ...      7.000000      4.000000      1.000000      1.000000   \n",
              "75%    ...     12.000000      6.000000      2.000000      3.000000   \n",
              "max    ...     24.000000      8.000000      4.000000      4.000000   \n",
              "\n",
              "          CarryAway  RestaurantLessThan20  Restaurant20To50  \\\n",
              "count  12684.000000          12684.000000      12684.000000   \n",
              "mean       1.095002              1.116919          1.093031   \n",
              "std        1.092668              1.017842          1.038570   \n",
              "min       -1.000000             -1.000000         -1.000000   \n",
              "25%        0.000000              0.000000          0.000000   \n",
              "50%        1.000000              1.000000          1.000000   \n",
              "75%        2.000000              2.000000          1.000000   \n",
              "max        4.000000              4.000000          4.000000   \n",
              "\n",
              "       toCoupon_GEQ15min  toCoupon_GEQ25min             Y  \n",
              "count       12684.000000       12684.000000  12684.000000  \n",
              "mean            0.561495           0.119126      0.568433  \n",
              "std             0.496224           0.323950      0.495314  \n",
              "min             0.000000           0.000000      0.000000  \n",
              "25%             0.000000           0.000000      0.000000  \n",
              "50%             1.000000           0.000000      1.000000  \n",
              "75%             1.000000           0.000000      1.000000  \n",
              "max             1.000000           1.000000      1.000000  \n",
              "\n",
              "[8 rows x 22 columns]"
            ],
            "text/html": [
              "\n",
              "  <div id=\"df-ae46b785-bc0c-41ef-99ac-9c0fa73e3219\" class=\"colab-df-container\">\n",
              "    <div>\n",
              "<style scoped>\n",
              "    .dataframe tbody tr th:only-of-type {\n",
              "        vertical-align: middle;\n",
              "    }\n",
              "\n",
              "    .dataframe tbody tr th {\n",
              "        vertical-align: top;\n",
              "    }\n",
              "\n",
              "    .dataframe thead th {\n",
              "        text-align: right;\n",
              "    }\n",
              "</style>\n",
              "<table border=\"1\" class=\"dataframe\">\n",
              "  <thead>\n",
              "    <tr style=\"text-align: right;\">\n",
              "      <th></th>\n",
              "      <th>destination</th>\n",
              "      <th>passanger</th>\n",
              "      <th>weather</th>\n",
              "      <th>temperature</th>\n",
              "      <th>time</th>\n",
              "      <th>coupon</th>\n",
              "      <th>expiration</th>\n",
              "      <th>gender</th>\n",
              "      <th>age</th>\n",
              "      <th>maritalStatus</th>\n",
              "      <th>...</th>\n",
              "      <th>occupation</th>\n",
              "      <th>income</th>\n",
              "      <th>Bar</th>\n",
              "      <th>CoffeeHouse</th>\n",
              "      <th>CarryAway</th>\n",
              "      <th>RestaurantLessThan20</th>\n",
              "      <th>Restaurant20To50</th>\n",
              "      <th>toCoupon_GEQ15min</th>\n",
              "      <th>toCoupon_GEQ25min</th>\n",
              "      <th>Y</th>\n",
              "    </tr>\n",
              "  </thead>\n",
              "  <tbody>\n",
              "    <tr>\n",
              "      <th>count</th>\n",
              "      <td>12684.000000</td>\n",
              "      <td>12684.000000</td>\n",
              "      <td>12684.000000</td>\n",
              "      <td>12684.000000</td>\n",
              "      <td>12684.000000</td>\n",
              "      <td>12684.000000</td>\n",
              "      <td>12684.000000</td>\n",
              "      <td>12684.000000</td>\n",
              "      <td>12684.000000</td>\n",
              "      <td>12684.000000</td>\n",
              "      <td>...</td>\n",
              "      <td>12684.000000</td>\n",
              "      <td>12684.000000</td>\n",
              "      <td>12684.000000</td>\n",
              "      <td>12684.000000</td>\n",
              "      <td>12684.000000</td>\n",
              "      <td>12684.000000</td>\n",
              "      <td>12684.000000</td>\n",
              "      <td>12684.000000</td>\n",
              "      <td>12684.000000</td>\n",
              "      <td>12684.000000</td>\n",
              "    </tr>\n",
              "    <tr>\n",
              "      <th>mean</th>\n",
              "      <td>0.754100</td>\n",
              "      <td>0.672895</td>\n",
              "      <td>0.316935</td>\n",
              "      <td>63.301798</td>\n",
              "      <td>2.069615</td>\n",
              "      <td>1.639940</td>\n",
              "      <td>0.440949</td>\n",
              "      <td>0.486676</td>\n",
              "      <td>2.915169</td>\n",
              "      <td>1.341848</td>\n",
              "      <td>...</td>\n",
              "      <td>7.680227</td>\n",
              "      <td>3.847130</td>\n",
              "      <td>1.077893</td>\n",
              "      <td>1.644197</td>\n",
              "      <td>1.095002</td>\n",
              "      <td>1.116919</td>\n",
              "      <td>1.093031</td>\n",
              "      <td>0.561495</td>\n",
              "      <td>0.119126</td>\n",
              "      <td>0.568433</td>\n",
              "    </tr>\n",
              "    <tr>\n",
              "      <th>std</th>\n",
              "      <td>0.827275</td>\n",
              "      <td>0.941975</td>\n",
              "      <td>0.661861</td>\n",
              "      <td>19.154486</td>\n",
              "      <td>1.300099</td>\n",
              "      <td>1.301404</td>\n",
              "      <td>0.496520</td>\n",
              "      <td>0.499842</td>\n",
              "      <td>2.137671</td>\n",
              "      <td>0.844149</td>\n",
              "      <td>...</td>\n",
              "      <td>6.320758</td>\n",
              "      <td>2.480907</td>\n",
              "      <td>1.227206</td>\n",
              "      <td>1.353922</td>\n",
              "      <td>1.092668</td>\n",
              "      <td>1.017842</td>\n",
              "      <td>1.038570</td>\n",
              "      <td>0.496224</td>\n",
              "      <td>0.323950</td>\n",
              "      <td>0.495314</td>\n",
              "    </tr>\n",
              "    <tr>\n",
              "      <th>min</th>\n",
              "      <td>0.000000</td>\n",
              "      <td>0.000000</td>\n",
              "      <td>0.000000</td>\n",
              "      <td>30.000000</td>\n",
              "      <td>0.000000</td>\n",
              "      <td>0.000000</td>\n",
              "      <td>0.000000</td>\n",
              "      <td>0.000000</td>\n",
              "      <td>0.000000</td>\n",
              "      <td>0.000000</td>\n",
              "      <td>...</td>\n",
              "      <td>0.000000</td>\n",
              "      <td>0.000000</td>\n",
              "      <td>-1.000000</td>\n",
              "      <td>-1.000000</td>\n",
              "      <td>-1.000000</td>\n",
              "      <td>-1.000000</td>\n",
              "      <td>-1.000000</td>\n",
              "      <td>0.000000</td>\n",
              "      <td>0.000000</td>\n",
              "      <td>0.000000</td>\n",
              "    </tr>\n",
              "    <tr>\n",
              "      <th>25%</th>\n",
              "      <td>0.000000</td>\n",
              "      <td>0.000000</td>\n",
              "      <td>0.000000</td>\n",
              "      <td>55.000000</td>\n",
              "      <td>1.000000</td>\n",
              "      <td>1.000000</td>\n",
              "      <td>0.000000</td>\n",
              "      <td>0.000000</td>\n",
              "      <td>1.000000</td>\n",
              "      <td>1.000000</td>\n",
              "      <td>...</td>\n",
              "      <td>2.000000</td>\n",
              "      <td>2.000000</td>\n",
              "      <td>0.000000</td>\n",
              "      <td>0.000000</td>\n",
              "      <td>0.000000</td>\n",
              "      <td>0.000000</td>\n",
              "      <td>0.000000</td>\n",
              "      <td>0.000000</td>\n",
              "      <td>0.000000</td>\n",
              "      <td>0.000000</td>\n",
              "    </tr>\n",
              "    <tr>\n",
              "      <th>50%</th>\n",
              "      <td>1.000000</td>\n",
              "      <td>0.000000</td>\n",
              "      <td>0.000000</td>\n",
              "      <td>80.000000</td>\n",
              "      <td>2.000000</td>\n",
              "      <td>1.000000</td>\n",
              "      <td>0.000000</td>\n",
              "      <td>0.000000</td>\n",
              "      <td>3.000000</td>\n",
              "      <td>1.000000</td>\n",
              "      <td>...</td>\n",
              "      <td>7.000000</td>\n",
              "      <td>4.000000</td>\n",
              "      <td>1.000000</td>\n",
              "      <td>1.000000</td>\n",
              "      <td>1.000000</td>\n",
              "      <td>1.000000</td>\n",
              "      <td>1.000000</td>\n",
              "      <td>1.000000</td>\n",
              "      <td>0.000000</td>\n",
              "      <td>1.000000</td>\n",
              "    </tr>\n",
              "    <tr>\n",
              "      <th>75%</th>\n",
              "      <td>1.000000</td>\n",
              "      <td>1.000000</td>\n",
              "      <td>0.000000</td>\n",
              "      <td>80.000000</td>\n",
              "      <td>3.000000</td>\n",
              "      <td>3.000000</td>\n",
              "      <td>1.000000</td>\n",
              "      <td>1.000000</td>\n",
              "      <td>5.000000</td>\n",
              "      <td>2.000000</td>\n",
              "      <td>...</td>\n",
              "      <td>12.000000</td>\n",
              "      <td>6.000000</td>\n",
              "      <td>2.000000</td>\n",
              "      <td>3.000000</td>\n",
              "      <td>2.000000</td>\n",
              "      <td>2.000000</td>\n",
              "      <td>1.000000</td>\n",
              "      <td>1.000000</td>\n",
              "      <td>0.000000</td>\n",
              "      <td>1.000000</td>\n",
              "    </tr>\n",
              "    <tr>\n",
              "      <th>max</th>\n",
              "      <td>2.000000</td>\n",
              "      <td>3.000000</td>\n",
              "      <td>2.000000</td>\n",
              "      <td>80.000000</td>\n",
              "      <td>4.000000</td>\n",
              "      <td>4.000000</td>\n",
              "      <td>1.000000</td>\n",
              "      <td>1.000000</td>\n",
              "      <td>7.000000</td>\n",
              "      <td>4.000000</td>\n",
              "      <td>...</td>\n",
              "      <td>24.000000</td>\n",
              "      <td>8.000000</td>\n",
              "      <td>4.000000</td>\n",
              "      <td>4.000000</td>\n",
              "      <td>4.000000</td>\n",
              "      <td>4.000000</td>\n",
              "      <td>4.000000</td>\n",
              "      <td>1.000000</td>\n",
              "      <td>1.000000</td>\n",
              "      <td>1.000000</td>\n",
              "    </tr>\n",
              "  </tbody>\n",
              "</table>\n",
              "<p>8 rows × 22 columns</p>\n",
              "</div>\n",
              "    <div class=\"colab-df-buttons\">\n",
              "\n",
              "  <div class=\"colab-df-container\">\n",
              "    <button class=\"colab-df-convert\" onclick=\"convertToInteractive('df-ae46b785-bc0c-41ef-99ac-9c0fa73e3219')\"\n",
              "            title=\"Convert this dataframe to an interactive table.\"\n",
              "            style=\"display:none;\">\n",
              "\n",
              "  <svg xmlns=\"http://www.w3.org/2000/svg\" height=\"24px\" viewBox=\"0 -960 960 960\">\n",
              "    <path d=\"M120-120v-720h720v720H120Zm60-500h600v-160H180v160Zm220 220h160v-160H400v160Zm0 220h160v-160H400v160ZM180-400h160v-160H180v160Zm440 0h160v-160H620v160ZM180-180h160v-160H180v160Zm440 0h160v-160H620v160Z\"/>\n",
              "  </svg>\n",
              "    </button>\n",
              "\n",
              "  <style>\n",
              "    .colab-df-container {\n",
              "      display:flex;\n",
              "      gap: 12px;\n",
              "    }\n",
              "\n",
              "    .colab-df-convert {\n",
              "      background-color: #E8F0FE;\n",
              "      border: none;\n",
              "      border-radius: 50%;\n",
              "      cursor: pointer;\n",
              "      display: none;\n",
              "      fill: #1967D2;\n",
              "      height: 32px;\n",
              "      padding: 0 0 0 0;\n",
              "      width: 32px;\n",
              "    }\n",
              "\n",
              "    .colab-df-convert:hover {\n",
              "      background-color: #E2EBFA;\n",
              "      box-shadow: 0px 1px 2px rgba(60, 64, 67, 0.3), 0px 1px 3px 1px rgba(60, 64, 67, 0.15);\n",
              "      fill: #174EA6;\n",
              "    }\n",
              "\n",
              "    .colab-df-buttons div {\n",
              "      margin-bottom: 4px;\n",
              "    }\n",
              "\n",
              "    [theme=dark] .colab-df-convert {\n",
              "      background-color: #3B4455;\n",
              "      fill: #D2E3FC;\n",
              "    }\n",
              "\n",
              "    [theme=dark] .colab-df-convert:hover {\n",
              "      background-color: #434B5C;\n",
              "      box-shadow: 0px 1px 3px 1px rgba(0, 0, 0, 0.15);\n",
              "      filter: drop-shadow(0px 1px 2px rgba(0, 0, 0, 0.3));\n",
              "      fill: #FFFFFF;\n",
              "    }\n",
              "  </style>\n",
              "\n",
              "    <script>\n",
              "      const buttonEl =\n",
              "        document.querySelector('#df-ae46b785-bc0c-41ef-99ac-9c0fa73e3219 button.colab-df-convert');\n",
              "      buttonEl.style.display =\n",
              "        google.colab.kernel.accessAllowed ? 'block' : 'none';\n",
              "\n",
              "      async function convertToInteractive(key) {\n",
              "        const element = document.querySelector('#df-ae46b785-bc0c-41ef-99ac-9c0fa73e3219');\n",
              "        const dataTable =\n",
              "          await google.colab.kernel.invokeFunction('convertToInteractive',\n",
              "                                                    [key], {});\n",
              "        if (!dataTable) return;\n",
              "\n",
              "        const docLinkHtml = 'Like what you see? Visit the ' +\n",
              "          '<a target=\"_blank\" href=https://colab.research.google.com/notebooks/data_table.ipynb>data table notebook</a>'\n",
              "          + ' to learn more about interactive tables.';\n",
              "        element.innerHTML = '';\n",
              "        dataTable['output_type'] = 'display_data';\n",
              "        await google.colab.output.renderOutput(dataTable, element);\n",
              "        const docLink = document.createElement('div');\n",
              "        docLink.innerHTML = docLinkHtml;\n",
              "        element.appendChild(docLink);\n",
              "      }\n",
              "    </script>\n",
              "  </div>\n",
              "\n",
              "\n",
              "<div id=\"df-17217fdd-9920-41d4-bc5d-3d3e1ae747ae\">\n",
              "  <button class=\"colab-df-quickchart\" onclick=\"quickchart('df-17217fdd-9920-41d4-bc5d-3d3e1ae747ae')\"\n",
              "            title=\"Suggest charts\"\n",
              "            style=\"display:none;\">\n",
              "\n",
              "<svg xmlns=\"http://www.w3.org/2000/svg\" height=\"24px\"viewBox=\"0 0 24 24\"\n",
              "     width=\"24px\">\n",
              "    <g>\n",
              "        <path d=\"M19 3H5c-1.1 0-2 .9-2 2v14c0 1.1.9 2 2 2h14c1.1 0 2-.9 2-2V5c0-1.1-.9-2-2-2zM9 17H7v-7h2v7zm4 0h-2V7h2v10zm4 0h-2v-4h2v4z\"/>\n",
              "    </g>\n",
              "</svg>\n",
              "  </button>\n",
              "\n",
              "<style>\n",
              "  .colab-df-quickchart {\n",
              "      --bg-color: #E8F0FE;\n",
              "      --fill-color: #1967D2;\n",
              "      --hover-bg-color: #E2EBFA;\n",
              "      --hover-fill-color: #174EA6;\n",
              "      --disabled-fill-color: #AAA;\n",
              "      --disabled-bg-color: #DDD;\n",
              "  }\n",
              "\n",
              "  [theme=dark] .colab-df-quickchart {\n",
              "      --bg-color: #3B4455;\n",
              "      --fill-color: #D2E3FC;\n",
              "      --hover-bg-color: #434B5C;\n",
              "      --hover-fill-color: #FFFFFF;\n",
              "      --disabled-bg-color: #3B4455;\n",
              "      --disabled-fill-color: #666;\n",
              "  }\n",
              "\n",
              "  .colab-df-quickchart {\n",
              "    background-color: var(--bg-color);\n",
              "    border: none;\n",
              "    border-radius: 50%;\n",
              "    cursor: pointer;\n",
              "    display: none;\n",
              "    fill: var(--fill-color);\n",
              "    height: 32px;\n",
              "    padding: 0;\n",
              "    width: 32px;\n",
              "  }\n",
              "\n",
              "  .colab-df-quickchart:hover {\n",
              "    background-color: var(--hover-bg-color);\n",
              "    box-shadow: 0 1px 2px rgba(60, 64, 67, 0.3), 0 1px 3px 1px rgba(60, 64, 67, 0.15);\n",
              "    fill: var(--button-hover-fill-color);\n",
              "  }\n",
              "\n",
              "  .colab-df-quickchart-complete:disabled,\n",
              "  .colab-df-quickchart-complete:disabled:hover {\n",
              "    background-color: var(--disabled-bg-color);\n",
              "    fill: var(--disabled-fill-color);\n",
              "    box-shadow: none;\n",
              "  }\n",
              "\n",
              "  .colab-df-spinner {\n",
              "    border: 2px solid var(--fill-color);\n",
              "    border-color: transparent;\n",
              "    border-bottom-color: var(--fill-color);\n",
              "    animation:\n",
              "      spin 1s steps(1) infinite;\n",
              "  }\n",
              "\n",
              "  @keyframes spin {\n",
              "    0% {\n",
              "      border-color: transparent;\n",
              "      border-bottom-color: var(--fill-color);\n",
              "      border-left-color: var(--fill-color);\n",
              "    }\n",
              "    20% {\n",
              "      border-color: transparent;\n",
              "      border-left-color: var(--fill-color);\n",
              "      border-top-color: var(--fill-color);\n",
              "    }\n",
              "    30% {\n",
              "      border-color: transparent;\n",
              "      border-left-color: var(--fill-color);\n",
              "      border-top-color: var(--fill-color);\n",
              "      border-right-color: var(--fill-color);\n",
              "    }\n",
              "    40% {\n",
              "      border-color: transparent;\n",
              "      border-right-color: var(--fill-color);\n",
              "      border-top-color: var(--fill-color);\n",
              "    }\n",
              "    60% {\n",
              "      border-color: transparent;\n",
              "      border-right-color: var(--fill-color);\n",
              "    }\n",
              "    80% {\n",
              "      border-color: transparent;\n",
              "      border-right-color: var(--fill-color);\n",
              "      border-bottom-color: var(--fill-color);\n",
              "    }\n",
              "    90% {\n",
              "      border-color: transparent;\n",
              "      border-bottom-color: var(--fill-color);\n",
              "    }\n",
              "  }\n",
              "</style>\n",
              "\n",
              "  <script>\n",
              "    async function quickchart(key) {\n",
              "      const quickchartButtonEl =\n",
              "        document.querySelector('#' + key + ' button');\n",
              "      quickchartButtonEl.disabled = true;  // To prevent multiple clicks.\n",
              "      quickchartButtonEl.classList.add('colab-df-spinner');\n",
              "      try {\n",
              "        const charts = await google.colab.kernel.invokeFunction(\n",
              "            'suggestCharts', [key], {});\n",
              "      } catch (error) {\n",
              "        console.error('Error during call to suggestCharts:', error);\n",
              "      }\n",
              "      quickchartButtonEl.classList.remove('colab-df-spinner');\n",
              "      quickchartButtonEl.classList.add('colab-df-quickchart-complete');\n",
              "    }\n",
              "    (() => {\n",
              "      let quickchartButtonEl =\n",
              "        document.querySelector('#df-17217fdd-9920-41d4-bc5d-3d3e1ae747ae button');\n",
              "      quickchartButtonEl.style.display =\n",
              "        google.colab.kernel.accessAllowed ? 'block' : 'none';\n",
              "    })();\n",
              "  </script>\n",
              "</div>\n",
              "    </div>\n",
              "  </div>\n"
            ]
          },
          "metadata": {},
          "execution_count": 55
        }
      ]
    },
    {
      "cell_type": "code",
      "source": [
        "df.info()"
      ],
      "metadata": {
        "id": "upGwrTgJyv_0",
        "colab": {
          "base_uri": "https://localhost:8080/"
        },
        "outputId": "ff1a3912-5329-40f2-8d0a-d828b9d01c38"
      },
      "id": "upGwrTgJyv_0",
      "execution_count": 56,
      "outputs": [
        {
          "output_type": "stream",
          "name": "stdout",
          "text": [
            "<class 'pandas.core.frame.DataFrame'>\n",
            "RangeIndex: 12684 entries, 0 to 12683\n",
            "Data columns (total 22 columns):\n",
            " #   Column                Non-Null Count  Dtype\n",
            "---  ------                --------------  -----\n",
            " 0   destination           12684 non-null  int64\n",
            " 1   passanger             12684 non-null  int64\n",
            " 2   weather               12684 non-null  int64\n",
            " 3   temperature           12684 non-null  int64\n",
            " 4   time                  12684 non-null  int64\n",
            " 5   coupon                12684 non-null  int64\n",
            " 6   expiration            12684 non-null  int64\n",
            " 7   gender                12684 non-null  int64\n",
            " 8   age                   12684 non-null  int64\n",
            " 9   maritalStatus         12684 non-null  int64\n",
            " 10  has_children          12684 non-null  int64\n",
            " 11  education             12684 non-null  int64\n",
            " 12  occupation            12684 non-null  int64\n",
            " 13  income                12684 non-null  int64\n",
            " 14  Bar                   12684 non-null  int64\n",
            " 15  CoffeeHouse           12684 non-null  int64\n",
            " 16  CarryAway             12684 non-null  int64\n",
            " 17  RestaurantLessThan20  12684 non-null  int64\n",
            " 18  Restaurant20To50      12684 non-null  int64\n",
            " 19  toCoupon_GEQ15min     12684 non-null  int64\n",
            " 20  toCoupon_GEQ25min     12684 non-null  int64\n",
            " 21  Y                     12684 non-null  int64\n",
            "dtypes: int64(22)\n",
            "memory usage: 2.1 MB\n"
          ]
        }
      ]
    },
    {
      "cell_type": "code",
      "source": [
        "X = df.drop(columns='Y')\n",
        "y = df['Y']\n",
        "y= [x==1 for x in y]\n",
        "y=pd.DataFrame(y,columns=['Y'])"
      ],
      "metadata": {
        "id": "oCcOrIxGbpix"
      },
      "id": "oCcOrIxGbpix",
      "execution_count": null,
      "outputs": []
    },
    {
      "cell_type": "code",
      "source": [
        "X_train, X_test, y_train, y_test = train_test_split(X, y, train_size=0.7, random_state=40)"
      ],
      "metadata": {
        "id": "PNB4h9qQddSG"
      },
      "id": "PNB4h9qQddSG",
      "execution_count": null,
      "outputs": []
    },
    {
      "cell_type": "code",
      "source": [
        "knn_model = KNeighborsClassifier(n_neighbors = 11)\n",
        "knn_model.fit(X_train,y_train)\n",
        "predicted_y = knn_model.predict(X_test)\n",
        "accuracy_knn = knn_model.score(X_test,y_test)\n",
        "print(\"KNN accuracy:\",accuracy_knn)"
      ],
      "metadata": {
        "id": "V21JoBiKfpek",
        "colab": {
          "base_uri": "https://localhost:8080/"
        },
        "outputId": "48f91459-5d8e-4c42-aae8-183894d40edb"
      },
      "id": "V21JoBiKfpek",
      "execution_count": null,
      "outputs": [
        {
          "output_type": "stream",
          "name": "stdout",
          "text": [
            "KNN accuracy: 0.6261166579085654\n"
          ]
        }
      ]
    },
    {
      "cell_type": "code",
      "source": [
        "print(classification_report(y_test, predicted_y))"
      ],
      "metadata": {
        "id": "yisTFJApf3CV",
        "colab": {
          "base_uri": "https://localhost:8080/"
        },
        "outputId": "3f256c47-5c08-4ced-8212-01de20c8ec08"
      },
      "id": "yisTFJApf3CV",
      "execution_count": null,
      "outputs": [
        {
          "output_type": "stream",
          "name": "stdout",
          "text": [
            "              precision    recall  f1-score   support\n",
            "\n",
            "       False       0.58      0.50      0.54      1644\n",
            "        True       0.66      0.72      0.69      2162\n",
            "\n",
            "    accuracy                           0.63      3806\n",
            "   macro avg       0.62      0.61      0.61      3806\n",
            "weighted avg       0.62      0.63      0.62      3806\n",
            "\n"
          ]
        }
      ]
    },
    {
      "cell_type": "code",
      "source": [
        "model_rf = RandomForestClassifier(n_estimators=500 , oob_score = True, n_jobs = -1,\n",
        "                                  random_state =50, max_features = \"auto\",\n",
        "                                  max_leaf_nodes = 30)\n",
        "model_rf.fit(X_train, y_train)\n",
        "\n",
        "# Make predictions\n",
        "prediction_test = model_rf.predict(X_test)\n",
        "print (metrics.accuracy_score(y_test, prediction_test))"
      ],
      "metadata": {
        "id": "FmhKi-pWhWr5",
        "colab": {
          "base_uri": "https://localhost:8080/"
        },
        "outputId": "973d25d7-3474-4ad8-f0f2-b9fbd0c9b424"
      },
      "id": "FmhKi-pWhWr5",
      "execution_count": null,
      "outputs": [
        {
          "output_type": "stream",
          "name": "stdout",
          "text": [
            "0.6960063058328955\n"
          ]
        }
      ]
    },
    {
      "cell_type": "code",
      "source": [
        "print(classification_report(y_test, prediction_test))"
      ],
      "metadata": {
        "id": "HcHNz9BBhXwC",
        "colab": {
          "base_uri": "https://localhost:8080/"
        },
        "outputId": "78224112-8a65-4e30-952f-7f72e72b88c5"
      },
      "id": "HcHNz9BBhXwC",
      "execution_count": null,
      "outputs": [
        {
          "output_type": "stream",
          "name": "stdout",
          "text": [
            "              precision    recall  f1-score   support\n",
            "\n",
            "       False       0.71      0.50      0.59      1644\n",
            "        True       0.69      0.84      0.76      2162\n",
            "\n",
            "    accuracy                           0.70      3806\n",
            "   macro avg       0.70      0.67      0.67      3806\n",
            "weighted avg       0.70      0.70      0.69      3806\n",
            "\n"
          ]
        }
      ]
    },
    {
      "cell_type": "code",
      "source": [
        "plt.figure(figsize=(4,3))\n",
        "sns.heatmap(confusion_matrix(y_test, prediction_test),\n",
        "                annot=True,fmt = \"d\",linecolor=\"k\",linewidths=3)\n",
        "\n",
        "plt.title(\" RANDOM FOREST CONFUSION MATRIX\",fontsize=14)\n",
        "plt.show()"
      ],
      "metadata": {
        "id": "LUKTjZwehY8y",
        "colab": {
          "base_uri": "https://localhost:8080/",
          "height": 315
        },
        "outputId": "27577cdf-034b-42b6-9410-bc191c0ff4c6"
      },
      "id": "LUKTjZwehY8y",
      "execution_count": null,
      "outputs": [
        {
          "output_type": "display_data",
          "data": {
            "text/plain": [
              "<Figure size 400x300 with 2 Axes>"
            ],
            "image/png": "[encoded data removed]"
          },
          "metadata": {}
        }
      ]
    },
    {
      "cell_type": "code",
      "source": [
        "y_rfpred_prob = model_rf.predict_proba(X_test)[:,1]\n",
        "fpr_rf, tpr_rf, thresholds = roc_curve(y_test, y_rfpred_prob)\n",
        "plt.plot([0, 1], [0, 1], 'k--' )\n",
        "plt.plot(fpr_rf, tpr_rf, label='Random Forest',color = \"r\")\n",
        "plt.xlabel('False Positive Rate')\n",
        "plt.ylabel('True Positive Rate')\n",
        "plt.title('Random Forest ROC Curve',fontsize=16)\n",
        "plt.show();"
      ],
      "metadata": {
        "id": "De2xlobfhaCF",
        "colab": {
          "base_uri": "https://localhost:8080/",
          "height": 474
        },
        "outputId": "91a31973-04f8-406f-d97d-44384923304e"
      },
      "id": "De2xlobfhaCF",
      "execution_count": null,
      "outputs": [
        {
          "output_type": "display_data",
          "data": {
            "text/plain": [
              "<Figure size 640x480 with 1 Axes>"
            ],
            "image/png": "[encoded data removed]"
          },
          "metadata": {}
        }
      ]
    },
    {
      "cell_type": "code",
      "source": [
        "lr_model = LogisticRegression()\n",
        "lr_model.fit(X_train,y_train)\n",
        "accuracy_lr = lr_model.score(X_test,y_test)\n",
        "print(\"Logistic Regression accuracy is :\",accuracy_lr)"
      ],
      "metadata": {
        "id": "wLCI_g57hbR6",
        "colab": {
          "base_uri": "https://localhost:8080/"
        },
        "outputId": "84791d48-4778-4102-dadf-3bb90aad52bf"
      },
      "id": "wLCI_g57hbR6",
      "execution_count": null,
      "outputs": [
        {
          "output_type": "stream",
          "name": "stdout",
          "text": [
            "Logistic Regression accuracy is : 0.6232264844981608\n"
          ]
        }
      ]
    },
    {
      "cell_type": "code",
      "source": [
        "lr_pred= lr_model.predict(X_test)\n",
        "report = classification_report(y_test,lr_pred)\n",
        "print(report)"
      ],
      "metadata": {
        "id": "k9KAHPOchcgQ",
        "colab": {
          "base_uri": "https://localhost:8080/"
        },
        "outputId": "0e1b95ac-6f76-423d-d576-aedcfaa0ba2b"
      },
      "id": "k9KAHPOchcgQ",
      "execution_count": null,
      "outputs": [
        {
          "output_type": "stream",
          "name": "stdout",
          "text": [
            "              precision    recall  f1-score   support\n",
            "\n",
            "       False       0.58      0.47      0.52      1644\n",
            "        True       0.65      0.74      0.69      2162\n",
            "\n",
            "    accuracy                           0.62      3806\n",
            "   macro avg       0.61      0.61      0.60      3806\n",
            "weighted avg       0.62      0.62      0.62      3806\n",
            "\n"
          ]
        }
      ]
    },
    {
      "cell_type": "code",
      "source": [
        "plt.figure(figsize=(4,3))\n",
        "sns.heatmap(confusion_matrix(y_test, lr_pred),\n",
        "                annot=True,fmt = \"d\",linecolor=\"k\",linewidths=3)\n",
        "\n",
        "plt.title(\"LOGISTIC REGRESSION CONFUSION MATRIX\",fontsize=14)\n",
        "plt.show()"
      ],
      "metadata": {
        "id": "koWjLPSvhdfI",
        "colab": {
          "base_uri": "https://localhost:8080/",
          "height": 315
        },
        "outputId": "b735f22f-9071-437c-f229-b043934b12a0"
      },
      "id": "koWjLPSvhdfI",
      "execution_count": null,
      "outputs": [
        {
          "output_type": "display_data",
          "data": {
            "text/plain": [
              "<Figure size 400x300 with 2 Axes>"
            ],
            "image/png": "[encoded data removed]"
          },
          "metadata": {}
        }
      ]
    },
    {
      "cell_type": "code",
      "source": [
        "y_pred_prob = lr_model.predict_proba(X_test)[:,1]\n",
        "fpr, tpr, thresholds = roc_curve(y_test, y_pred_prob)\n",
        "plt.plot([0, 1], [0, 1], 'k--' )\n",
        "plt.plot(fpr, tpr, label='Logistic Regression',color = \"r\")\n",
        "plt.xlabel('False Positive Rate')\n",
        "plt.ylabel('True Positive Rate')\n",
        "plt.title('Logistic Regression ROC Curve',fontsize=16)\n",
        "plt.show();"
      ],
      "metadata": {
        "id": "7ut4LAE8hfJ-",
        "colab": {
          "base_uri": "https://localhost:8080/",
          "height": 474
        },
        "outputId": "0dcb7807-a2db-4de1-d611-f4b83d9a6289"
      },
      "id": "7ut4LAE8hfJ-",
      "execution_count": null,
      "outputs": [
        {
          "output_type": "display_data",
          "data": {
            "text/plain": [
              "<Figure size 640x480 with 1 Axes>"
            ],
            "image/png": "[encoded data removed]"
          },
          "metadata": {}
        }
      ]
    },
    {
      "cell_type": "code",
      "source": [
        "dt_model = DecisionTreeClassifier()\n",
        "dt_model.fit(X_train,y_train)\n",
        "predictdt_y = dt_model.predict(X_test)\n",
        "accuracy_dt = dt_model.score(X_test,y_test)\n",
        "print(\"Decision Tree accuracy is :\",accuracy_dt)\n"
      ],
      "metadata": {
        "id": "Ko7Ky38-hgZE",
        "colab": {
          "base_uri": "https://localhost:8080/"
        },
        "outputId": "41a4cf3e-fcf7-4cd0-c206-1d3dfa2090ca"
      },
      "id": "Ko7Ky38-hgZE",
      "execution_count": null,
      "outputs": [
        {
          "output_type": "stream",
          "name": "stdout",
          "text": [
            "Decision Tree accuracy is : 0.686022070415134\n"
          ]
        }
      ]
    },
    {
      "cell_type": "code",
      "source": [
        "print(classification_report(y_test, predictdt_y))"
      ],
      "metadata": {
        "id": "tuEWD7gdhhun",
        "colab": {
          "base_uri": "https://localhost:8080/"
        },
        "outputId": "73cb3125-93d7-448e-fb21-38075e92ee5b"
      },
      "id": "tuEWD7gdhhun",
      "execution_count": null,
      "outputs": [
        {
          "output_type": "stream",
          "name": "stdout",
          "text": [
            "              precision    recall  f1-score   support\n",
            "\n",
            "       False       0.63      0.66      0.64      1644\n",
            "        True       0.73      0.71      0.72      2162\n",
            "\n",
            "    accuracy                           0.69      3806\n",
            "   macro avg       0.68      0.68      0.68      3806\n",
            "weighted avg       0.69      0.69      0.69      3806\n",
            "\n"
          ]
        }
      ]
    },
    {
      "cell_type": "code",
      "source": [
        "# Create regression matrices\n",
        "dtrain_reg = xgb.DMatrix(X_train, y_train, enable_categorical=True)\n",
        "dtest_reg = xgb.DMatrix(X_test, y_test, enable_categorical=True)"
      ],
      "metadata": {
        "id": "GhcXuYoOhjBq"
      },
      "id": "GhcXuYoOhjBq",
      "execution_count": null,
      "outputs": []
    },
    {
      "cell_type": "code",
      "source": [
        "# fit model no training data\n",
        "model_XG = XGBClassifier()\n",
        "model_XG.fit(X_train, y_train)"
      ],
      "metadata": {
        "id": "HferhNJahkHD",
        "colab": {
          "base_uri": "https://localhost:8080/",
          "height": 248
        },
        "outputId": "60e2b78e-9187-4b6f-c3f8-8d08c5193ac0"
      },
      "id": "HferhNJahkHD",
      "execution_count": null,
      "outputs": [
        {
          "output_type": "execute_result",
          "data": {
            "text/plain": [
              "XGBClassifier(base_score=None, booster=None, callbacks=None,\n",
              "              colsample_bylevel=None, colsample_bynode=None,\n",
              "              colsample_bytree=None, device=None, early_stopping_rounds=None,\n",
              "              enable_categorical=False, eval_metric=None, feature_types=None,\n",
              "              gamma=None, grow_policy=None, importance_type=None,\n",
              "              interaction_constraints=None, learning_rate=None, max_bin=None,\n",
              "              max_cat_threshold=None, max_cat_to_onehot=None,\n",
              "              max_delta_step=None, max_depth=None, max_leaves=None,\n",
              "              min_child_weight=None, missing=nan, monotone_constraints=None,\n",
              "              multi_strategy=None, n_estimators=None, n_jobs=None,\n",
              "              num_parallel_tree=None, random_state=None, ...)"
            ],
            "text/html": [
              "<style>#sk-container-id-3 {color: black;background-color: white;}#sk-container-id-3 pre{padding: 0;}#sk-container-id-3 div.sk-toggleable {background-color: white;}#sk-container-id-3 label.sk-toggleable__label {cursor: pointer;display: block;width: 100%;margin-bottom: 0;padding: 0.3em;box-sizing: border-box;text-align: center;}#sk-container-id-3 label.sk-toggleable__label-arrow:before {content: \"▸\";float: left;margin-right: 0.25em;color: #696969;}#sk-container-id-3 label.sk-toggleable__label-arrow:hover:before {color: black;}#sk-container-id-3 div.sk-estimator:hover label.sk-toggleable__label-arrow:before {color: black;}#sk-container-id-3 div.sk-toggleable__content {max-height: 0;max-width: 0;overflow: hidden;text-align: left;background-color: #f0f8ff;}#sk-container-id-3 div.sk-toggleable__content pre {margin: 0.2em;color: black;border-radius: 0.25em;background-color: #f0f8ff;}#sk-container-id-3 input.sk-toggleable__control:checked~div.sk-toggleable__content {max-height: 200px;max-width: 100%;overflow: auto;}#sk-container-id-3 input.sk-toggleable__control:checked~label.sk-toggleable__label-arrow:before {content: \"▾\";}#sk-container-id-3 div.sk-estimator input.sk-toggleable__control:checked~label.sk-toggleable__label {background-color: #d4ebff;}#sk-container-id-3 div.sk-label input.sk-toggleable__control:checked~label.sk-toggleable__label {background-color: #d4ebff;}#sk-container-id-3 input.sk-hidden--visually {border: 0;clip: rect(1px 1px 1px 1px);clip: rect(1px, 1px, 1px, 1px);height: 1px;margin: -1px;overflow: hidden;padding: 0;position: absolute;width: 1px;}#sk-container-id-3 div.sk-estimator {font-family: monospace;background-color: #f0f8ff;border: 1px dotted black;border-radius: 0.25em;box-sizing: border-box;margin-bottom: 0.5em;}#sk-container-id-3 div.sk-estimator:hover {background-color: #d4ebff;}#sk-container-id-3 div.sk-parallel-item::after {content: \"\";width: 100%;border-bottom: 1px solid gray;flex-grow: 1;}#sk-container-id-3 div.sk-label:hover label.sk-toggleable__label {background-color: #d4ebff;}#sk-container-id-3 div.sk-serial::before {content: \"\";position: absolute;border-left: 1px solid gray;box-sizing: border-box;top: 0;bottom: 0;left: 50%;z-index: 0;}#sk-container-id-3 div.sk-serial {display: flex;flex-direction: column;align-items: center;background-color: white;padding-right: 0.2em;padding-left: 0.2em;position: relative;}#sk-container-id-3 div.sk-item {position: relative;z-index: 1;}#sk-container-id-3 div.sk-parallel {display: flex;align-items: stretch;justify-content: center;background-color: white;position: relative;}#sk-container-id-3 div.sk-item::before, #sk-container-id-3 div.sk-parallel-item::before {content: \"\";position: absolute;border-left: 1px solid gray;box-sizing: border-box;top: 0;bottom: 0;left: 50%;z-index: -1;}#sk-container-id-3 div.sk-parallel-item {display: flex;flex-direction: column;z-index: 1;position: relative;background-color: white;}#sk-container-id-3 div.sk-parallel-item:first-child::after {align-self: flex-end;width: 50%;}#sk-container-id-3 div.sk-parallel-item:last-child::after {align-self: flex-start;width: 50%;}#sk-container-id-3 div.sk-parallel-item:only-child::after {width: 0;}#sk-container-id-3 div.sk-dashed-wrapped {border: 1px dashed gray;margin: 0 0.4em 0.5em 0.4em;box-sizing: border-box;padding-bottom: 0.4em;background-color: white;}#sk-container-id-3 div.sk-label label {font-family: monospace;font-weight: bold;display: inline-block;line-height: 1.2em;}#sk-container-id-3 div.sk-label-container {text-align: center;}#sk-container-id-3 div.sk-container {/* jupyter's `normalize.less` sets `[hidden] { display: none; }` but bootstrap.min.css set `[hidden] { display: none !important; }` so we also need the `!important` here to be able to override the default hidden behavior on the sphinx rendered scikit-learn.org. See: https://github.com/scikit-learn/scikit-learn/issues/21755 */display: inline-block !important;position: relative;}#sk-container-id-3 div.sk-text-repr-fallback {display: none;}</style><div id=\"sk-container-id-3\" class=\"sk-top-container\"><div class=\"sk-text-repr-fallback\"><pre>XGBClassifier(base_score=None, booster=None, callbacks=None,\n",
              "              colsample_bylevel=None, colsample_bynode=None,\n",
              "              colsample_bytree=None, device=None, early_stopping_rounds=None,\n",
              "              enable_categorical=False, eval_metric=None, feature_types=None,\n",
              "              gamma=None, grow_policy=None, importance_type=None,\n",
              "              interaction_constraints=None, learning_rate=None, max_bin=None,\n",
              "              max_cat_threshold=None, max_cat_to_onehot=None,\n",
              "              max_delta_step=None, max_depth=None, max_leaves=None,\n",
              "              min_child_weight=None, missing=nan, monotone_constraints=None,\n",
              "              multi_strategy=None, n_estimators=None, n_jobs=None,\n",
              "              num_parallel_tree=None, random_state=None, ...)</pre><b>In a Jupyter environment, please rerun this cell to show the HTML representation or trust the notebook. <br />On GitHub, the HTML representation is unable to render, please try loading this page with nbviewer.org.</b></div><div class=\"sk-container\" hidden><div class=\"sk-item\"><div class=\"sk-estimator sk-toggleable\"><input class=\"sk-toggleable__control sk-hidden--visually\" id=\"sk-estimator-id-3\" type=\"checkbox\" checked><label for=\"sk-estimator-id-3\" class=\"sk-toggleable__label sk-toggleable__label-arrow\">XGBClassifier</label><div class=\"sk-toggleable__content\"><pre>XGBClassifier(base_score=None, booster=None, callbacks=None,\n",
              "              colsample_bylevel=None, colsample_bynode=None,\n",
              "              colsample_bytree=None, device=None, early_stopping_rounds=None,\n",
              "              enable_categorical=False, eval_metric=None, feature_types=None,\n",
              "              gamma=None, grow_policy=None, importance_type=None,\n",
              "              interaction_constraints=None, learning_rate=None, max_bin=None,\n",
              "              max_cat_threshold=None, max_cat_to_onehot=None,\n",
              "              max_delta_step=None, max_depth=None, max_leaves=None,\n",
              "              min_child_weight=None, missing=nan, monotone_constraints=None,\n",
              "              multi_strategy=None, n_estimators=None, n_jobs=None,\n",
              "              num_parallel_tree=None, random_state=None, ...)</pre></div></div></div></div></div>"
            ]
          },
          "metadata": {},
          "execution_count": 148
        }
      ]
    },
    {
      "cell_type": "code",
      "source": [
        "# make predictions for test data\n",
        "y_pred = model_XG.predict(X_test)\n",
        "predictions = [round(value) for value in y_pred]\n"
      ],
      "metadata": {
        "id": "Kfbz76VHhlVY"
      },
      "id": "Kfbz76VHhlVY",
      "execution_count": null,
      "outputs": []
    },
    {
      "cell_type": "code",
      "source": [
        "\n",
        "# evaluate predictions\n",
        "accuracy = accuracy_score(y_test, predictions)\n",
        "print(\"Accuracy: %.2f%%\" % (accuracy * 100.0))"
      ],
      "metadata": {
        "id": "gahsjsvNhmcA",
        "colab": {
          "base_uri": "https://localhost:8080/"
        },
        "outputId": "773bb4ab-63a7-4446-92a6-e7de024103a7"
      },
      "id": "gahsjsvNhmcA",
      "execution_count": null,
      "outputs": [
        {
          "output_type": "stream",
          "name": "stdout",
          "text": [
            "Accuracy: 76.12%\n"
          ]
        }
      ]
    },
    {
      "cell_type": "code",
      "source": [
        "print(classification_report(y_test, prediction_test))"
      ],
      "metadata": {
        "id": "P6aP8dNChnwb",
        "colab": {
          "base_uri": "https://localhost:8080/"
        },
        "outputId": "f30cefa1-a522-43c8-f0d4-fd8d418946c5"
      },
      "id": "P6aP8dNChnwb",
      "execution_count": null,
      "outputs": [
        {
          "output_type": "stream",
          "name": "stdout",
          "text": [
            "              precision    recall  f1-score   support\n",
            "\n",
            "       False       0.71      0.50      0.59      1644\n",
            "        True       0.69      0.84      0.76      2162\n",
            "\n",
            "    accuracy                           0.70      3806\n",
            "   macro avg       0.70      0.67      0.67      3806\n",
            "weighted avg       0.70      0.70      0.69      3806\n",
            "\n"
          ]
        }
      ]
    },
    {
      "cell_type": "code",
      "source": [
        "NB = GaussianNB()\n"
      ],
      "metadata": {
        "id": "iRnMQsJLhpBJ"
      },
      "id": "iRnMQsJLhpBJ",
      "execution_count": null,
      "outputs": []
    },
    {
      "cell_type": "code",
      "source": [
        "NB.fit(X_train,y_train)"
      ],
      "metadata": {
        "id": "VcNQAzWShqO9",
        "colab": {
          "base_uri": "https://localhost:8080/",
          "height": 75
        },
        "outputId": "7613389c-7730-4455-ed90-d8c5131dc34b"
      },
      "id": "VcNQAzWShqO9",
      "execution_count": null,
      "outputs": [
        {
          "output_type": "execute_result",
          "data": {
            "text/plain": [
              "GaussianNB()"
            ],
            "text/html": [
              "<style>#sk-container-id-4 {color: black;background-color: white;}#sk-container-id-4 pre{padding: 0;}#sk-container-id-4 div.sk-toggleable {background-color: white;}#sk-container-id-4 label.sk-toggleable__label {cursor: pointer;display: block;width: 100%;margin-bottom: 0;padding: 0.3em;box-sizing: border-box;text-align: center;}#sk-container-id-4 label.sk-toggleable__label-arrow:before {content: \"▸\";float: left;margin-right: 0.25em;color: #696969;}#sk-container-id-4 label.sk-toggleable__label-arrow:hover:before {color: black;}#sk-container-id-4 div.sk-estimator:hover label.sk-toggleable__label-arrow:before {color: black;}#sk-container-id-4 div.sk-toggleable__content {max-height: 0;max-width: 0;overflow: hidden;text-align: left;background-color: #f0f8ff;}#sk-container-id-4 div.sk-toggleable__content pre {margin: 0.2em;color: black;border-radius: 0.25em;background-color: #f0f8ff;}#sk-container-id-4 input.sk-toggleable__control:checked~div.sk-toggleable__content {max-height: 200px;max-width: 100%;overflow: auto;}#sk-container-id-4 input.sk-toggleable__control:checked~label.sk-toggleable__label-arrow:before {content: \"▾\";}#sk-container-id-4 div.sk-estimator input.sk-toggleable__control:checked~label.sk-toggleable__label {background-color: #d4ebff;}#sk-container-id-4 div.sk-label input.sk-toggleable__control:checked~label.sk-toggleable__label {background-color: #d4ebff;}#sk-container-id-4 input.sk-hidden--visually {border: 0;clip: rect(1px 1px 1px 1px);clip: rect(1px, 1px, 1px, 1px);height: 1px;margin: -1px;overflow: hidden;padding: 0;position: absolute;width: 1px;}#sk-container-id-4 div.sk-estimator {font-family: monospace;background-color: #f0f8ff;border: 1px dotted black;border-radius: 0.25em;box-sizing: border-box;margin-bottom: 0.5em;}#sk-container-id-4 div.sk-estimator:hover {background-color: #d4ebff;}#sk-container-id-4 div.sk-parallel-item::after {content: \"\";width: 100%;border-bottom: 1px solid gray;flex-grow: 1;}#sk-container-id-4 div.sk-label:hover label.sk-toggleable__label {background-color: #d4ebff;}#sk-container-id-4 div.sk-serial::before {content: \"\";position: absolute;border-left: 1px solid gray;box-sizing: border-box;top: 0;bottom: 0;left: 50%;z-index: 0;}#sk-container-id-4 div.sk-serial {display: flex;flex-direction: column;align-items: center;background-color: white;padding-right: 0.2em;padding-left: 0.2em;position: relative;}#sk-container-id-4 div.sk-item {position: relative;z-index: 1;}#sk-container-id-4 div.sk-parallel {display: flex;align-items: stretch;justify-content: center;background-color: white;position: relative;}#sk-container-id-4 div.sk-item::before, #sk-container-id-4 div.sk-parallel-item::before {content: \"\";position: absolute;border-left: 1px solid gray;box-sizing: border-box;top: 0;bottom: 0;left: 50%;z-index: -1;}#sk-container-id-4 div.sk-parallel-item {display: flex;flex-direction: column;z-index: 1;position: relative;background-color: white;}#sk-container-id-4 div.sk-parallel-item:first-child::after {align-self: flex-end;width: 50%;}#sk-container-id-4 div.sk-parallel-item:last-child::after {align-self: flex-start;width: 50%;}#sk-container-id-4 div.sk-parallel-item:only-child::after {width: 0;}#sk-container-id-4 div.sk-dashed-wrapped {border: 1px dashed gray;margin: 0 0.4em 0.5em 0.4em;box-sizing: border-box;padding-bottom: 0.4em;background-color: white;}#sk-container-id-4 div.sk-label label {font-family: monospace;font-weight: bold;display: inline-block;line-height: 1.2em;}#sk-container-id-4 div.sk-label-container {text-align: center;}#sk-container-id-4 div.sk-container {/* jupyter's `normalize.less` sets `[hidden] { display: none; }` but bootstrap.min.css set `[hidden] { display: none !important; }` so we also need the `!important` here to be able to override the default hidden behavior on the sphinx rendered scikit-learn.org. See: https://github.com/scikit-learn/scikit-learn/issues/21755 */display: inline-block !important;position: relative;}#sk-container-id-4 div.sk-text-repr-fallback {display: none;}</style><div id=\"sk-container-id-4\" class=\"sk-top-container\"><div class=\"sk-text-repr-fallback\"><pre>GaussianNB()</pre><b>In a Jupyter environment, please rerun this cell to show the HTML representation or trust the notebook. <br />On GitHub, the HTML representation is unable to render, please try loading this page with nbviewer.org.</b></div><div class=\"sk-container\" hidden><div class=\"sk-item\"><div class=\"sk-estimator sk-toggleable\"><input class=\"sk-toggleable__control sk-hidden--visually\" id=\"sk-estimator-id-4\" type=\"checkbox\" checked><label for=\"sk-estimator-id-4\" class=\"sk-toggleable__label sk-toggleable__label-arrow\">GaussianNB</label><div class=\"sk-toggleable__content\"><pre>GaussianNB()</pre></div></div></div></div></div>"
            ]
          },
          "metadata": {},
          "execution_count": 153
        }
      ]
    },
    {
      "cell_type": "code",
      "source": [
        "NB.score(X_train,y_train)"
      ],
      "metadata": {
        "id": "mvYDeFHjhrEf",
        "colab": {
          "base_uri": "https://localhost:8080/"
        },
        "outputId": "fdf35ffe-89ab-4d35-bc1d-f2179041f02d"
      },
      "id": "mvYDeFHjhrEf",
      "execution_count": null,
      "outputs": [
        {
          "output_type": "execute_result",
          "data": {
            "text/plain": [
              "0.6208605541788691"
            ]
          },
          "metadata": {},
          "execution_count": 154
        }
      ]
    },
    {
      "cell_type": "code",
      "source": [
        "YNB_pre = NB.predict(X_test)\n"
      ],
      "metadata": {
        "id": "06SJ6lx2hyaD"
      },
      "id": "06SJ6lx2hyaD",
      "execution_count": null,
      "outputs": []
    },
    {
      "cell_type": "code",
      "source": [
        "print(classification_report(y_test,YNB_pre))\n"
      ],
      "metadata": {
        "id": "2Y2BooTOhsHo",
        "colab": {
          "base_uri": "https://localhost:8080/"
        },
        "outputId": "257d4d2f-04ca-4921-cda8-06854509b899"
      },
      "id": "2Y2BooTOhsHo",
      "execution_count": null,
      "outputs": [
        {
          "output_type": "stream",
          "name": "stdout",
          "text": [
            "              precision    recall  f1-score   support\n",
            "\n",
            "       False       0.56      0.43      0.49      1644\n",
            "        True       0.63      0.75      0.68      2162\n",
            "\n",
            "    accuracy                           0.61      3806\n",
            "   macro avg       0.60      0.59      0.59      3806\n",
            "weighted avg       0.60      0.61      0.60      3806\n",
            "\n"
          ]
        }
      ]
    },
    {
      "cell_type": "code",
      "source": [
        "scores_KNN = cross_val_score(knn_model, X, y, cv=10, scoring='accuracy')\n",
        "print('Cross-Validation Scores:', scores_KNN)\n",
        "print('Mean Accuracy:', scores_KNN.mean())\n"
      ],
      "metadata": {
        "id": "5xCDM4Zphte5",
        "colab": {
          "base_uri": "https://localhost:8080/"
        },
        "outputId": "bcfd3fa1-be7d-4c44-b2a0-3a067c705517"
      },
      "id": "5xCDM4Zphte5",
      "execution_count": null,
      "outputs": [
        {
          "output_type": "stream",
          "name": "stdout",
          "text": [
            "Cross-Validation Scores: [0.61465721 0.55319149 0.5500394  0.47754137 0.46687697 0.49132492\n",
            " 0.53391167 0.55835962 0.58675079 0.59542587]\n",
            "Mean Accuracy: 0.5428079314296511\n"
          ]
        }
      ]
    },
    {
      "cell_type": "code",
      "source": [
        "scores_rf = cross_val_score(model_rf, X, y, cv=10, scoring='accuracy')\n",
        "print('Cross-Validation Scores:', scores_rf)\n",
        "print('Mean Accuracy:', scores_rf.mean())\n"
      ],
      "metadata": {
        "id": "1a-9WD4shvYA",
        "colab": {
          "base_uri": "https://localhost:8080/"
        },
        "outputId": "676869b1-9e67-4a29-e13b-77f18c1c04aa"
      },
      "id": "1a-9WD4shvYA",
      "execution_count": null,
      "outputs": [
        {
          "output_type": "stream",
          "name": "stdout",
          "text": [
            "Cross-Validation Scores: [0.66824271 0.67769898 0.66824271 0.65169425 0.64905363 0.68927445\n",
            " 0.65851735 0.67507886 0.70425868 0.7137224 ]\n",
            "Mean Accuracy: 0.6755784007378074\n"
          ]
        }
      ]
    },
    {
      "cell_type": "code",
      "source": [
        "scores_lr = cross_val_score(lr_model, X, y, cv=10, scoring='accuracy')\n",
        "print('Cross-Validation Scores:', scores_lr)\n",
        "print('Mean Accuracy:', scores_lr.mean())\n"
      ],
      "metadata": {
        "id": "OP77MCl-h0ZN",
        "colab": {
          "base_uri": "https://localhost:8080/"
        },
        "outputId": "92abb4d1-f332-4363-955d-985e8790cd80"
      },
      "id": "OP77MCl-h0ZN",
      "execution_count": null,
      "outputs": [
        {
          "output_type": "stream",
          "name": "stdout",
          "text": [
            "Cross-Validation Scores: [0.59889677 0.63750985 0.62962963 0.62805359 0.62381703 0.6340694\n",
            " 0.58596215 0.63170347 0.64511041 0.6522082 ]\n",
            "Mean Accuracy: 0.6266960496975934\n"
          ]
        }
      ]
    },
    {
      "cell_type": "code",
      "source": [
        "scores_dt = cross_val_score(dt_model, X, y, cv=10, scoring='accuracy')\n",
        "print('Cross-Validation Scores:', scores_dt)\n",
        "print('Mean Accuracy:', scores_dt.mean())\n"
      ],
      "metadata": {
        "id": "hW4XwoBIh1it",
        "colab": {
          "base_uri": "https://localhost:8080/"
        },
        "outputId": "797d1a1a-a21b-4d57-8721-cf76b3858bf6"
      },
      "id": "hW4XwoBIh1it",
      "execution_count": null,
      "outputs": [
        {
          "output_type": "stream",
          "name": "stdout",
          "text": [
            "Cross-Validation Scores: [0.63120567 0.59968479 0.62174941 0.61150512 0.59148265 0.5670347\n",
            " 0.55914826 0.62223975 0.59700315 0.5851735 ]\n",
            "Mean Accuracy: 0.5986227014987334\n"
          ]
        }
      ]
    },
    {
      "cell_type": "code",
      "source": [
        "scores_NB = cross_val_score(NB, X, y, cv=10, scoring='accuracy')\n",
        "print('Cross-Validation Scores:', scores_NB)\n",
        "print('Mean Accuracy:', scores_NB.mean())"
      ],
      "metadata": {
        "id": "a3DI_O1Qh2f9",
        "colab": {
          "base_uri": "https://localhost:8080/"
        },
        "outputId": "e0979bfc-a4f1-4a01-882c-4555dadc27f3"
      },
      "id": "a3DI_O1Qh2f9",
      "execution_count": null,
      "outputs": [
        {
          "output_type": "stream",
          "name": "stdout",
          "text": [
            "Cross-Validation Scores: [0.60756501 0.6036249  0.61229314 0.60520095 0.60488959 0.63170347\n",
            " 0.58044164 0.63328076 0.65063091 0.60883281]\n",
            "Mean Accuracy: 0.6138463182962813\n"
          ]
        }
      ]
    },
    {
      "cell_type": "code",
      "source": [
        "scores_xg = cross_val_score(model_XG, X, y, cv=10, scoring='accuracy')\n",
        "print('Cross-Validation Scores:', scores_xg)\n",
        "print('Mean Accuracy:', scores_xg.mean())\n",
        "\n"
      ],
      "metadata": {
        "id": "DG240_0nh3jc",
        "colab": {
          "base_uri": "https://localhost:8080/"
        },
        "outputId": "75508d69-59d1-4eaa-b431-a90df52e0a4c"
      },
      "id": "DG240_0nh3jc",
      "execution_count": null,
      "outputs": [
        {
          "output_type": "stream",
          "name": "stdout",
          "text": [
            "Cross-Validation Scores: [0.67454689 0.67060678 0.65799842 0.63041765 0.59542587 0.58832808\n",
            " 0.59305994 0.6466877  0.68375394 0.67113565]\n",
            "Mean Accuracy: 0.6411960907145147\n"
          ]
        }
      ]
    },
    {
      "cell_type": "code",
      "source": [
        "df.nunique()"
      ],
      "metadata": {
        "id": "5AiXWPyuNw3X",
        "colab": {
          "base_uri": "https://localhost:8080/"
        },
        "outputId": "f784dd02-df88-4e7e-a2aa-04975227b255"
      },
      "id": "5AiXWPyuNw3X",
      "execution_count": 57,
      "outputs": [
        {
          "output_type": "execute_result",
          "data": {
            "text/plain": [
              "destination              3\n",
              "passanger                4\n",
              "weather                  3\n",
              "temperature              3\n",
              "time                     5\n",
              "coupon                   5\n",
              "expiration               2\n",
              "gender                   2\n",
              "age                      8\n",
              "maritalStatus            5\n",
              "has_children             2\n",
              "education                6\n",
              "occupation              25\n",
              "income                   9\n",
              "Bar                      6\n",
              "CoffeeHouse              6\n",
              "CarryAway                6\n",
              "RestaurantLessThan20     6\n",
              "Restaurant20To50         6\n",
              "toCoupon_GEQ15min        2\n",
              "toCoupon_GEQ25min        2\n",
              "Y                        2\n",
              "dtype: int64"
            ]
          },
          "metadata": {},
          "execution_count": 57
        }
      ]
    },
    {
      "cell_type": "code",
      "source": [
        "\n",
        "df['occupation'] = pd.qcut( df['occupation'],q=5,labels=['1', '2', '3', '4','5'])\n"
      ],
      "metadata": {
        "id": "DGSCqco0OP2-"
      },
      "id": "DGSCqco0OP2-",
      "execution_count": 58,
      "outputs": []
    },
    {
      "cell_type": "code",
      "source": [
        "X = df.drop(columns='Y')\n",
        "X=pd.get_dummies(X)\n",
        "X=X.astype('bool')\n",
        "y = [x==1 for x in df['Y']]# taking the max class as true, which is Dermason\n",
        "y=pd.Series(y)\n",
        "X=X.iloc[10000:11000,:]\n",
        "y=y.iloc[10000:11000]\n",
        "y.value_counts()"
      ],
      "metadata": {
        "id": "nY8fGBqE9Sto",
        "colab": {
          "base_uri": "https://localhost:8080/"
        },
        "outputId": "6ac8dd2f-6dd1-42bc-c76e-9ffd209775d9"
      },
      "id": "nY8fGBqE9Sto",
      "execution_count": 59,
      "outputs": [
        {
          "output_type": "execute_result",
          "data": {
            "text/plain": [
              "True     550\n",
              "False    450\n",
              "dtype: int64"
            ]
          },
          "metadata": {},
          "execution_count": 59
        }
      ]
    },
    {
      "cell_type": "code",
      "source": [
        "X_train, X_test, y_train, y_test = train_test_split(X, y, test_size=0.3, random_state=42)"
      ],
      "metadata": {
        "id": "egs4X2SG9qlk"
      },
      "id": "egs4X2SG9qlk",
      "execution_count": 60,
      "outputs": []
    },
    {
      "cell_type": "code",
      "source": [
        "bin_cls = fcalc.classifier.BinarizedBinaryClassifier(X_train.values, y_train.to_numpy(), method=\"standard\")"
      ],
      "metadata": {
        "id": "uCB1IMWh99KM"
      },
      "id": "uCB1IMWh99KM",
      "execution_count": 61,
      "outputs": []
    },
    {
      "cell_type": "code",
      "source": [
        "bin_cls.predict(X_test.values)"
      ],
      "metadata": {
        "id": "09w0gg-N9-Vv"
      },
      "id": "09w0gg-N9-Vv",
      "execution_count": 62,
      "outputs": []
    },
    {
      "cell_type": "code",
      "source": [
        "print(accuracy_score(y_test, bin_cls.predictions))\n",
        "print(f1_score(y_test, bin_cls.predictions.astype('bool')))"
      ],
      "metadata": {
        "id": "e4ZbP0Cf9_0z",
        "colab": {
          "base_uri": "https://localhost:8080/"
        },
        "outputId": "d3db71d4-f5ee-4c1e-d9b4-bc105026564a"
      },
      "id": "e4ZbP0Cf9_0z",
      "execution_count": 63,
      "outputs": [
        {
          "output_type": "stream",
          "name": "stdout",
          "text": [
            "0.31666666666666665\n",
            "0.696132596685083\n"
          ]
        }
      ]
    },
    {
      "cell_type": "code",
      "source": [
        "predicted_y=bin_cls.predictions\n",
        "print(classification_report(y_test,predicted_y))"
      ],
      "metadata": {
        "colab": {
          "base_uri": "https://localhost:8080/"
        },
        "id": "IcB-YVXy50XF",
        "outputId": "61ff69aa-f993-437c-ede9-8fad50ba8114"
      },
      "id": "IcB-YVXy50XF",
      "execution_count": 64,
      "outputs": [
        {
          "output_type": "stream",
          "name": "stdout",
          "text": [
            "              precision    recall  f1-score   support\n",
            "\n",
            "        -1.0       0.00      0.00      0.00         0\n",
            "         0.0       0.65      0.46      0.54       139\n",
            "         1.0       0.82      0.19      0.31       161\n",
            "\n",
            "    accuracy                           0.32       300\n",
            "   macro avg       0.49      0.22      0.28       300\n",
            "weighted avg       0.74      0.32      0.42       300\n",
            "\n"
          ]
        }
      ]
    },
    {
      "cell_type": "code",
      "source": [
        "def my_cross_val(model, X, y, n_splits=5):\n",
        "    # Convert to numpy arrays if input is pandas DataFrame or Series\n",
        "    if isinstance(X, pd.DataFrame):\n",
        "        X = X.values\n",
        "    if isinstance(y, pd.Series):\n",
        "        y = y.values\n",
        "\n",
        "    num_samples = len(X)\n",
        "    fold_size = num_samples // n_splits\n",
        "    scores = []\n",
        "\n",
        "    for i in range(n_splits):\n",
        "        # Define the indices for the current fold\n",
        "        start = i * fold_size\n",
        "        end = start + fold_size if i < n_splits - 1 else num_samples\n",
        "\n",
        "        # Create the training and validation sets\n",
        "        val_idx = list(range(start, end))\n",
        "        train_idx = [idx for idx in range(num_samples) if idx not in val_idx]\n",
        "\n",
        "        X_train, X_val = X[train_idx], X[val_idx]\n",
        "        y_train, y_val = y[train_idx], y[val_idx]\n",
        "\n",
        "        # Train the model\n",
        "        y_train=pd.Series(y_train)\n",
        "        X_train=pd.DataFrame(X_train)\n",
        "        bin_cls = fcalc.classifier.BinarizedBinaryClassifier(X_train.values, y_train.to_numpy(), method=\"standard\")  # Replace with your model's training method\n",
        "\n",
        "        # Predict on validation set\n",
        "        #X_test=pd.DataFrame(X_test)\n",
        "        bin_cls.predict(X_test.values)\n",
        "\n",
        "        # Calculate accuracy or any other metric of interest\n",
        "        accuracy = accuracy_score(y_test, bin_cls.predictions)  # Replace with your own metric\n",
        "\n",
        "        scores.append(accuracy)\n",
        "\n",
        "    return scores\n"
      ],
      "metadata": {
        "id": "lHVxBXjRLMPs"
      },
      "execution_count": 65,
      "outputs": [],
      "id": "lHVxBXjRLMPs"
    },
    {
      "cell_type": "code",
      "source": [
        "scores_bin1 = my_cross_val(bin_cls, X, y,10)\n",
        "print('Cross-Validation Scores:', scores_bin1)\n",
        "print('Mean Accuracy:', pd.Series(scores_bin1).mean())"
      ],
      "metadata": {
        "id": "EqjLaJ9gReZU",
        "colab": {
          "base_uri": "https://localhost:8080/"
        },
        "outputId": "50d783ba-0b4a-4fdf-a6fa-4ab4a90cd1ae"
      },
      "id": "EqjLaJ9gReZU",
      "execution_count": 66,
      "outputs": [
        {
          "output_type": "stream",
          "name": "stdout",
          "text": [
            "Cross-Validation Scores: [0.34, 0.33, 0.32666666666666666, 0.3333333333333333, 0.33666666666666667, 0.3466666666666667, 0.35, 0.37, 0.32, 0.34]\n",
            "Mean Accuracy: 0.3393333333333333\n"
          ]
        }
      ]
    },
    {
      "cell_type": "code",
      "source": [
        "bin_cls = fcalc.classifier.BinarizedBinaryClassifier(X_train.values, y_train.to_numpy(), method=\"standard-support\")"
      ],
      "metadata": {
        "id": "EH1_6NgbK_0x"
      },
      "execution_count": 67,
      "outputs": [],
      "id": "EH1_6NgbK_0x"
    },
    {
      "cell_type": "code",
      "source": [
        "bin_cls.predict(X_test.values)"
      ],
      "metadata": {
        "id": "2z59tAYzLBRp"
      },
      "execution_count": 68,
      "outputs": [],
      "id": "2z59tAYzLBRp"
    },
    {
      "cell_type": "code",
      "source": [
        "print(accuracy_score(y_test, bin_cls.predictions))\n",
        "print(f1_score(y_test, bin_cls.predictions.astype(bool)))"
      ],
      "metadata": {
        "id": "EDAGxULGLFW-",
        "colab": {
          "base_uri": "https://localhost:8080/"
        },
        "outputId": "957593a2-c27c-4980-9c40-a9a4d9cd24a0"
      },
      "execution_count": 69,
      "outputs": [
        {
          "output_type": "stream",
          "name": "stdout",
          "text": [
            "0.3233333333333333\n",
            "0.701657458563536\n"
          ]
        }
      ],
      "id": "EDAGxULGLFW-"
    },
    {
      "cell_type": "code",
      "source": [
        "predicted_y=bin_cls.predictions\n",
        "print(classification_report(y_test,predicted_y))"
      ],
      "metadata": {
        "colab": {
          "base_uri": "https://localhost:8080/"
        },
        "id": "3cxPOZrO5zn1",
        "outputId": "af62fd13-e6e8-4365-c598-35a904121e35"
      },
      "id": "3cxPOZrO5zn1",
      "execution_count": 70,
      "outputs": [
        {
          "output_type": "stream",
          "name": "stdout",
          "text": [
            "              precision    recall  f1-score   support\n",
            "\n",
            "        -1.0       0.00      0.00      0.00         0\n",
            "         0.0       0.66      0.47      0.55       139\n",
            "         1.0       0.84      0.20      0.32       161\n",
            "\n",
            "    accuracy                           0.32       300\n",
            "   macro avg       0.50      0.22      0.29       300\n",
            "weighted avg       0.76      0.32      0.43       300\n",
            "\n"
          ]
        }
      ]
    },
    {
      "cell_type": "code",
      "source": [
        "def my_cross_val(model, X, y, n_splits=5):\n",
        "    # Convert to numpy arrays if input is pandas DataFrame or Series\n",
        "    if isinstance(X, pd.DataFrame):\n",
        "        X = X.values\n",
        "    if isinstance(y, pd.Series):\n",
        "        y = y.values\n",
        "\n",
        "    num_samples = len(X)\n",
        "    fold_size = num_samples // n_splits\n",
        "    scores = []\n",
        "\n",
        "    for i in range(n_splits):\n",
        "        # Define the indices for the current fold\n",
        "        start = i * fold_size\n",
        "        end = start + fold_size if i < n_splits - 1 else num_samples\n",
        "\n",
        "        # Create the training and validation sets\n",
        "        val_idx = list(range(start, end))\n",
        "        train_idx = [idx for idx in range(num_samples) if idx not in val_idx]\n",
        "\n",
        "        X_train, X_val = X[train_idx], X[val_idx]\n",
        "        y_train, y_val = y[train_idx], y[val_idx]\n",
        "\n",
        "        # Train the model\n",
        "        y_train=pd.Series(y_train)\n",
        "        X_train=pd.DataFrame(X_train)\n",
        "        bin_cls = fcalc.classifier.BinarizedBinaryClassifier(X_train.values, y_train.to_numpy(), method=\"standard\")  # Replace with your model's training method\n",
        "\n",
        "        # Predict on validation set\n",
        "        #X_test=pd.DataFrame(X_test)\n",
        "        bin_cls.predict(X_test.values)\n",
        "\n",
        "        # Calculate accuracy or any other metric of interest\n",
        "        accuracy = accuracy_score(y_test, bin_cls.predictions)  # Replace with your own metric\n",
        "\n",
        "        scores.append(accuracy)\n",
        "\n",
        "    return scores\n"
      ],
      "metadata": {
        "id": "2N-nkmj3QYmD"
      },
      "execution_count": 71,
      "outputs": [],
      "id": "2N-nkmj3QYmD"
    },
    {
      "cell_type": "code",
      "source": [
        "scores_bin1 = my_cross_val(bin_cls, X, y,10)\n",
        "print('Cross-Validation Scores:', scores_bin1)\n",
        "print('Mean Accuracy:', pd.Series(scores_bin1).mean())"
      ],
      "metadata": {
        "id": "OOTy1zz8ebQA",
        "colab": {
          "base_uri": "https://localhost:8080/"
        },
        "outputId": "2861a2b5-bf2e-4d0b-cb1d-920c1b9b6948"
      },
      "execution_count": 72,
      "outputs": [
        {
          "output_type": "stream",
          "name": "stdout",
          "text": [
            "Cross-Validation Scores: [0.34, 0.33, 0.32666666666666666, 0.3333333333333333, 0.33666666666666667, 0.3466666666666667, 0.35, 0.37, 0.32, 0.34]\n",
            "Mean Accuracy: 0.3393333333333333\n"
          ]
        }
      ],
      "id": "OOTy1zz8ebQA"
    },
    {
      "cell_type": "code",
      "source": [
        "bin_cls = fcalc.classifier.BinarizedBinaryClassifier(X_train.values, y_train.to_numpy(), method=\"ratio-support \")"
      ],
      "metadata": {
        "id": "oJtqHV9oLXdA"
      },
      "execution_count": 73,
      "outputs": [],
      "id": "oJtqHV9oLXdA"
    },
    {
      "cell_type": "code",
      "source": [
        "bin_cls.predict(X_test.values)"
      ],
      "metadata": {
        "id": "-_k1Y9p1LXZM"
      },
      "execution_count": 74,
      "outputs": [],
      "id": "-_k1Y9p1LXZM"
    },
    {
      "cell_type": "code",
      "source": [
        "print(accuracy_score(y_test, bin_cls.predictions))\n",
        "print(f1_score(y_test, bin_cls.predictions.astype(bool)))"
      ],
      "metadata": {
        "id": "AvSQJSxJLXUv",
        "colab": {
          "base_uri": "https://localhost:8080/"
        },
        "outputId": "11d3ee60-d652-426a-d712-e28b30cee749"
      },
      "execution_count": 75,
      "outputs": [
        {
          "output_type": "stream",
          "name": "stdout",
          "text": [
            "0.4633333333333333\n",
            "0.0\n"
          ]
        }
      ],
      "id": "AvSQJSxJLXUv"
    },
    {
      "cell_type": "code",
      "source": [
        "predicted_y=bin_cls.predictions\n",
        "print(classification_report(y_test,predicted_y))"
      ],
      "metadata": {
        "colab": {
          "base_uri": "https://localhost:8080/"
        },
        "id": "DKVCggDP5wny",
        "outputId": "ac802ecb-179b-4293-e652-b11d43afe833"
      },
      "id": "DKVCggDP5wny",
      "execution_count": 76,
      "outputs": [
        {
          "output_type": "stream",
          "name": "stdout",
          "text": [
            "              precision    recall  f1-score   support\n",
            "\n",
            "       False       0.46      1.00      0.63       139\n",
            "        True       0.00      0.00      0.00       161\n",
            "\n",
            "    accuracy                           0.46       300\n",
            "   macro avg       0.23      0.50      0.32       300\n",
            "weighted avg       0.21      0.46      0.29       300\n",
            "\n"
          ]
        }
      ]
    },
    {
      "cell_type": "code",
      "source": [
        "def my_cross_val(model, X, y, n_splits=5):\n",
        "    # Convert to numpy arrays if input is pandas DataFrame or Series\n",
        "    if isinstance(X, pd.DataFrame):\n",
        "        X = X.values\n",
        "    if isinstance(y, pd.Series):\n",
        "        y = y.values\n",
        "\n",
        "    num_samples = len(X)\n",
        "    fold_size = num_samples // n_splits\n",
        "    scores = []\n",
        "\n",
        "    for i in range(n_splits):\n",
        "        # Define the indices for the current fold\n",
        "        start = i * fold_size\n",
        "        end = start + fold_size if i < n_splits - 1 else num_samples\n",
        "\n",
        "        # Create the training and validation sets\n",
        "        val_idx = list(range(start, end))\n",
        "        train_idx = [idx for idx in range(num_samples) if idx not in val_idx]\n",
        "\n",
        "        X_train, X_val = X[train_idx], X[val_idx]\n",
        "        y_train, y_val = y[train_idx], y[val_idx]\n",
        "\n",
        "        # Train the model\n",
        "        y_train=pd.Series(y_train)\n",
        "        X_train=pd.DataFrame(X_train)\n",
        "        bin_cls = fcalc.classifier.BinarizedBinaryClassifier(X_train.values, y_train.to_numpy(), method=\"standard-support\")  # Replace with your model's training method\n",
        "\n",
        "        # Predict on validation set\n",
        "        #X_test=pd.DataFrame(X_test)\n",
        "        bin_cls.predict(X_test.values)\n",
        "\n",
        "        # Calculate accuracy or any other metric of interest\n",
        "        accuracy = accuracy_score(y_test, bin_cls.predictions)  # Replace with your own metric\n",
        "\n",
        "        scores.append(accuracy)\n",
        "\n",
        "    return scores\n"
      ],
      "metadata": {
        "id": "sSOH9E7OQ2CB"
      },
      "execution_count": 77,
      "outputs": [],
      "id": "sSOH9E7OQ2CB"
    },
    {
      "cell_type": "code",
      "source": [
        "scores_bin2 = my_cross_val(bin_cls, X, y,10)\n",
        "print('Cross-Validation Scores:', scores_bin2)\n",
        "print('Mean Accuracy:', pd.Series(scores_bin2).mean())"
      ],
      "metadata": {
        "id": "KwzOZ5QcLIqz",
        "colab": {
          "base_uri": "https://localhost:8080/"
        },
        "outputId": "ea6e4576-c560-4359-dab7-dea47ed6283c"
      },
      "execution_count": 78,
      "outputs": [
        {
          "output_type": "stream",
          "name": "stdout",
          "text": [
            "Cross-Validation Scores: [0.34, 0.33, 0.3233333333333333, 0.32666666666666666, 0.3433333333333333, 0.3466666666666667, 0.35, 0.37, 0.32, 0.33666666666666667]\n",
            "Mean Accuracy: 0.33866666666666656\n"
          ]
        }
      ],
      "id": "KwzOZ5QcLIqz"
    },
    {
      "cell_type": "code",
      "source": [
        "pat_cls = fcalc.classifier.PatternBinaryClassifier(X_train.values, y_train.to_numpy())"
      ],
      "metadata": {
        "id": "S6226KdA6_na"
      },
      "id": "S6226KdA6_na",
      "execution_count": 79,
      "outputs": []
    },
    {
      "cell_type": "code",
      "source": [
        "pat_cls.predict(X_test.values)"
      ],
      "metadata": {
        "id": "IXy8f7S6-Dk6"
      },
      "id": "IXy8f7S6-Dk6",
      "execution_count": 80,
      "outputs": []
    },
    {
      "cell_type": "code",
      "source": [
        "print(accuracy_score(y_test, pat_cls.predictions))\n",
        "print(f1_score(y_test, pat_cls.predictions.astype('bool')))"
      ],
      "metadata": {
        "id": "v2GF1Lyp-Eyw",
        "colab": {
          "base_uri": "https://localhost:8080/"
        },
        "outputId": "292c3950-3fd8-4be4-861e-4b0c069e6a90"
      },
      "id": "v2GF1Lyp-Eyw",
      "execution_count": 81,
      "outputs": [
        {
          "output_type": "stream",
          "name": "stdout",
          "text": [
            "0.6566666666666666\n",
            "0.696969696969697\n"
          ]
        }
      ]
    },
    {
      "cell_type": "code",
      "source": [
        "predicted_y=pat_cls.predictions\n",
        "print(classification_report(y_test,predicted_y))"
      ],
      "metadata": {
        "colab": {
          "base_uri": "https://localhost:8080/"
        },
        "id": "U9s0dLmE5lwL",
        "outputId": "8ca064f0-e0c0-491a-9f19-63eabf6776ce"
      },
      "id": "U9s0dLmE5lwL",
      "execution_count": 82,
      "outputs": [
        {
          "output_type": "stream",
          "name": "stdout",
          "text": [
            "              precision    recall  f1-score   support\n",
            "\n",
            "        -1.0       0.00      0.00      0.00         0\n",
            "         0.0       0.65      0.61      0.63       139\n",
            "         1.0       0.70      0.70      0.70       161\n",
            "\n",
            "    accuracy                           0.66       300\n",
            "   macro avg       0.45      0.44      0.44       300\n",
            "weighted avg       0.68      0.66      0.67       300\n",
            "\n"
          ]
        }
      ]
    },
    {
      "cell_type": "code",
      "source": [
        "def my_cross_val(model, X, y, n_splits=5):\n",
        "    # Convert to numpy arrays if input is pandas DataFrame or Series\n",
        "    if isinstance(X, pd.DataFrame):\n",
        "        X = X.values\n",
        "    if isinstance(y, pd.Series):\n",
        "        y = y.values\n",
        "\n",
        "    num_samples = len(X)\n",
        "    fold_size = num_samples // n_splits\n",
        "    scores = []\n",
        "\n",
        "    for i in range(n_splits):\n",
        "        # Define the indices for the current fold\n",
        "        start = i * fold_size\n",
        "        end = start + fold_size if i < n_splits - 1 else num_samples\n",
        "\n",
        "        # Create the training and validation sets\n",
        "        val_idx = list(range(start, end))\n",
        "        train_idx = [idx for idx in range(num_samples) if idx not in val_idx]\n",
        "\n",
        "        X_train, X_val = X[train_idx], X[val_idx]\n",
        "        y_train, y_val = y[train_idx], y[val_idx]\n",
        "\n",
        "        # Train the model\n",
        "        y_train=pd.Series(y_train)\n",
        "        X_train=pd.DataFrame(X_train)\n",
        "        pat_cls = fcalc.classifier.PatternBinaryClassifier(X_train.values, y_train.to_numpy())  # Replace with your model's training method\n",
        "\n",
        "        # Predict on validation set\n",
        "        #X_test=pd.DataFrame(X_test)\n",
        "        pat_cls.predict(X_test.values)\n",
        "\n",
        "        # Calculate accuracy or any other metric of interest\n",
        "        accuracy = accuracy_score(y_test, pat_cls.predictions)  # Replace with your own metric\n",
        "\n",
        "        scores.append(accuracy)\n",
        "\n",
        "    return scores\n"
      ],
      "metadata": {
        "id": "ivl1BJ0uG_13"
      },
      "id": "ivl1BJ0uG_13",
      "execution_count": 83,
      "outputs": []
    },
    {
      "cell_type": "code",
      "source": [
        "scores_bin4 = my_cross_val(pat_cls, X, y,10)\n",
        "print('Cross-Validation Scores:', scores_bin4)\n",
        "print('Mean Accuracy:', pd.Series(scores_bin4).mean())"
      ],
      "metadata": {
        "colab": {
          "base_uri": "https://localhost:8080/"
        },
        "id": "fB1_XW8i57Dl",
        "outputId": "23ac320d-90af-44b2-87d5-3ff91b95a580"
      },
      "id": "fB1_XW8i57Dl",
      "execution_count": 85,
      "outputs": [
        {
          "output_type": "stream",
          "name": "stdout",
          "text": [
            "Cross-Validation Scores: [0.8433333333333334, 0.8533333333333334, 0.84, 0.8533333333333334, 0.8566666666666667, 0.87, 0.84, 0.8433333333333334, 0.84, 0.8266666666666667]\n",
            "Mean Accuracy: 0.8466666666666667\n"
          ]
        }
      ]
    }
  ],
  "metadata": {
    "kernelspec": {
      "display_name": "Python 3",
      "name": "python3"
    },
    "language_info": {
      "codemirror_mode": {
        "name": "ipython",
        "version": 3
      },
      "file_extension": ".py",
      "mimetype": "text/x-python",
      "name": "python",
      "nbconvert_exporter": "python",
      "pygments_lexer": "ipython3",
      "version": "3.10.5"
    },
    "colab": {
      "provenance": []
    }
  },
  "nbformat": 4,
  "nbformat_minor": 5
}